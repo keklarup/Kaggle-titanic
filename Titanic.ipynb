{
 "cells": [
  {
   "cell_type": "code",
   "execution_count": 2,
   "metadata": {
    "collapsed": false
   },
   "outputs": [],
   "source": [
    "#Python 3 environment\n",
    "\n",
    "#Please forgive the excess of comments. I hope that there are enough that\n",
    "#even if you have never seen a python script before, you can follow along...\n",
    "\n",
    "#First up, I'll import some packages that don't get auto-loaded when you open python.\n",
    "#These will be used to do data cleaning, visualizing, etc.\n",
    "\n",
    "#I'm not sure I'll need all of these, but I tend to use them.\n",
    "#So I'll go ahead and import them now.\n",
    "#I like my plots to auto-appear, like in Mathematica. This does that.\n",
    "%matplotlib inline\n",
    "import pandas as pd #pandas is a useful array/matrix/spreadsheet maipulator. But it has some unique language\n",
    "import numpy as np #math stuff!\n",
    "#import pylab as P #I actually don't use pylab very much...\n",
    "#from operator import itemgetter, attrgetter, methodcaller #Why do I have this..?\n",
    "import matplotlib.pyplot as plt #plotting package.\n",
    "from sklearn.ensemble import RandomForestClassifier #machine learning package.\n",
    "\n",
    "import os\n",
    "mingw_path='C:\\\\Program Files\\\\mingw-w64\\\\x86_64-5.3.0-posix-seh-rt_v4-rev0\\\\mingw64\\\\bin'\n",
    "os.environ['PATH']=mingw_path+';'+os.environ['PATH']\n",
    "import xgboost as xgb\n",
    "\n",
    "\n",
    "#Below, checking to make sure train and test csv files are available to open"
   ]
  },
  {
   "cell_type": "code",
   "execution_count": 3,
   "metadata": {
    "collapsed": false
   },
   "outputs": [
    {
     "name": "stdout",
     "output_type": "stream",
     "text": [
      " Volume in drive C has no label.\n",
      " Volume Serial Number is 7A48-729A\n",
      "\n",
      " Directory of C:\\Users\\KLK\\Kaggle Codes\\Titanic\n",
      "\n",
      "06/21/2016  07:08 AM    <DIR>          .\n",
      "06/21/2016  07:08 AM    <DIR>          ..\n",
      "05/13/2016  11:17 AM    <DIR>          .ipynb_checkpoints\n",
      "05/12/2016  03:20 PM            28,629 test.csv\n",
      "06/21/2016  07:08 AM           162,211 Titanic.ipynb\n",
      "05/13/2016  02:55 PM             3,258 titanic_predictions.csv\n",
      "05/12/2016  03:20 PM            61,194 train.csv\n",
      "               4 File(s)        255,292 bytes\n",
      "               3 Dir(s)  226,069,999,616 bytes free\n"
     ]
    }
   ],
   "source": [
    "ls"
   ]
  },
  {
   "cell_type": "code",
   "execution_count": 4,
   "metadata": {
    "collapsed": true
   },
   "outputs": [],
   "source": [
    "#Importing the training data into pandas, which makes nice spreadsheets and is good for mainpulation of rows/columns\n",
    "SA_train=pd.read_csv('train.csv', header=0)"
   ]
  },
  {
   "cell_type": "code",
   "execution_count": 5,
   "metadata": {
    "collapsed": false
   },
   "outputs": [
    {
     "data": {
      "text/plain": [
       "PassengerId      int64\n",
       "Survived         int64\n",
       "Pclass           int64\n",
       "Name            object\n",
       "Sex             object\n",
       "Age            float64\n",
       "SibSp            int64\n",
       "Parch            int64\n",
       "Ticket          object\n",
       "Fare           float64\n",
       "Cabin           object\n",
       "Embarked        object\n",
       "dtype: object"
      ]
     },
     "execution_count": 5,
     "metadata": {},
     "output_type": "execute_result"
    }
   ],
   "source": [
    "#Basic information about the columns in the panda object. Could also use SA_train.columns.values, but wouldn't get type info\n",
    "SA_train.dtypes"
   ]
  },
  {
   "cell_type": "code",
   "execution_count": 6,
   "metadata": {
    "collapsed": false
   },
   "outputs": [
    {
     "data": {
      "text/html": [
       "<div>\n",
       "<table border=\"1\" class=\"dataframe\">\n",
       "  <thead>\n",
       "    <tr style=\"text-align: right;\">\n",
       "      <th></th>\n",
       "      <th>PassengerId</th>\n",
       "      <th>Survived</th>\n",
       "      <th>Pclass</th>\n",
       "      <th>Age</th>\n",
       "      <th>SibSp</th>\n",
       "      <th>Parch</th>\n",
       "      <th>Fare</th>\n",
       "    </tr>\n",
       "  </thead>\n",
       "  <tbody>\n",
       "    <tr>\n",
       "      <th>count</th>\n",
       "      <td>891.000000</td>\n",
       "      <td>891.000000</td>\n",
       "      <td>891.000000</td>\n",
       "      <td>714.000000</td>\n",
       "      <td>891.000000</td>\n",
       "      <td>891.000000</td>\n",
       "      <td>891.000000</td>\n",
       "    </tr>\n",
       "    <tr>\n",
       "      <th>mean</th>\n",
       "      <td>446.000000</td>\n",
       "      <td>0.383838</td>\n",
       "      <td>2.308642</td>\n",
       "      <td>29.699118</td>\n",
       "      <td>0.523008</td>\n",
       "      <td>0.381594</td>\n",
       "      <td>32.204208</td>\n",
       "    </tr>\n",
       "    <tr>\n",
       "      <th>std</th>\n",
       "      <td>257.353842</td>\n",
       "      <td>0.486592</td>\n",
       "      <td>0.836071</td>\n",
       "      <td>14.526497</td>\n",
       "      <td>1.102743</td>\n",
       "      <td>0.806057</td>\n",
       "      <td>49.693429</td>\n",
       "    </tr>\n",
       "    <tr>\n",
       "      <th>min</th>\n",
       "      <td>1.000000</td>\n",
       "      <td>0.000000</td>\n",
       "      <td>1.000000</td>\n",
       "      <td>0.420000</td>\n",
       "      <td>0.000000</td>\n",
       "      <td>0.000000</td>\n",
       "      <td>0.000000</td>\n",
       "    </tr>\n",
       "    <tr>\n",
       "      <th>25%</th>\n",
       "      <td>223.500000</td>\n",
       "      <td>0.000000</td>\n",
       "      <td>2.000000</td>\n",
       "      <td>20.125000</td>\n",
       "      <td>0.000000</td>\n",
       "      <td>0.000000</td>\n",
       "      <td>7.910400</td>\n",
       "    </tr>\n",
       "    <tr>\n",
       "      <th>50%</th>\n",
       "      <td>446.000000</td>\n",
       "      <td>0.000000</td>\n",
       "      <td>3.000000</td>\n",
       "      <td>28.000000</td>\n",
       "      <td>0.000000</td>\n",
       "      <td>0.000000</td>\n",
       "      <td>14.454200</td>\n",
       "    </tr>\n",
       "    <tr>\n",
       "      <th>75%</th>\n",
       "      <td>668.500000</td>\n",
       "      <td>1.000000</td>\n",
       "      <td>3.000000</td>\n",
       "      <td>38.000000</td>\n",
       "      <td>1.000000</td>\n",
       "      <td>0.000000</td>\n",
       "      <td>31.000000</td>\n",
       "    </tr>\n",
       "    <tr>\n",
       "      <th>max</th>\n",
       "      <td>891.000000</td>\n",
       "      <td>1.000000</td>\n",
       "      <td>3.000000</td>\n",
       "      <td>80.000000</td>\n",
       "      <td>8.000000</td>\n",
       "      <td>6.000000</td>\n",
       "      <td>512.329200</td>\n",
       "    </tr>\n",
       "  </tbody>\n",
       "</table>\n",
       "</div>"
      ],
      "text/plain": [
       "       PassengerId    Survived      Pclass         Age       SibSp  \\\n",
       "count   891.000000  891.000000  891.000000  714.000000  891.000000   \n",
       "mean    446.000000    0.383838    2.308642   29.699118    0.523008   \n",
       "std     257.353842    0.486592    0.836071   14.526497    1.102743   \n",
       "min       1.000000    0.000000    1.000000    0.420000    0.000000   \n",
       "25%     223.500000    0.000000    2.000000   20.125000    0.000000   \n",
       "50%     446.000000    0.000000    3.000000   28.000000    0.000000   \n",
       "75%     668.500000    1.000000    3.000000   38.000000    1.000000   \n",
       "max     891.000000    1.000000    3.000000   80.000000    8.000000   \n",
       "\n",
       "            Parch        Fare  \n",
       "count  891.000000  891.000000  \n",
       "mean     0.381594   32.204208  \n",
       "std      0.806057   49.693429  \n",
       "min      0.000000    0.000000  \n",
       "25%      0.000000    7.910400  \n",
       "50%      0.000000   14.454200  \n",
       "75%      0.000000   31.000000  \n",
       "max      6.000000  512.329200  "
      ]
     },
     "execution_count": 6,
     "metadata": {},
     "output_type": "execute_result"
    }
   ],
   "source": [
    "#Just another way to summarize all the information in Pandas. \n",
    "SA_train.describe()"
   ]
  },
  {
   "cell_type": "code",
   "execution_count": 7,
   "metadata": {
    "collapsed": false
   },
   "outputs": [
    {
     "name": "stdout",
     "output_type": "stream",
     "text": [
      "<class 'pandas.core.frame.DataFrame'>\n",
      "RangeIndex: 891 entries, 0 to 890\n",
      "Data columns (total 12 columns):\n",
      "PassengerId    891 non-null int64\n",
      "Survived       891 non-null int64\n",
      "Pclass         891 non-null int64\n",
      "Name           891 non-null object\n",
      "Sex            891 non-null object\n",
      "Age            714 non-null float64\n",
      "SibSp          891 non-null int64\n",
      "Parch          891 non-null int64\n",
      "Ticket         891 non-null object\n",
      "Fare           891 non-null float64\n",
      "Cabin          204 non-null object\n",
      "Embarked       889 non-null object\n",
      "dtypes: float64(2), int64(5), object(5)\n",
      "memory usage: 83.6+ KB\n"
     ]
    }
   ],
   "source": [
    "#And a third way of looking at data. Important bit here: several features have missing values.\n",
    "SA_train.info()"
   ]
  },
  {
   "cell_type": "code",
   "execution_count": 9,
   "metadata": {
    "collapsed": true
   },
   "outputs": [],
   "source": [
    "#So, we see a couple categories missing ages, cabin, embarked, etc. \n",
    "#Let's first look at Age:"
   ]
  },
  {
   "cell_type": "code",
   "execution_count": 7,
   "metadata": {
    "collapsed": false
   },
   "outputs": [
    {
     "data": {
      "text/plain": [
       "<matplotlib.axes._subplots.AxesSubplot at 0x20a3ad16908>"
      ]
     },
     "execution_count": 7,
     "metadata": {},
     "output_type": "execute_result"
    },
    {
     "data": {
      "image/png": "[encoded data removed]",
      "text/plain": [
       "<matplotlib.figure.Figure at 0x20a3abea358>"
      ]
     },
     "metadata": {},
     "output_type": "display_data"
    }
   ],
   "source": [
    "#This is my favorite way of calling a particular column. Could also do SA_train.Age, \n",
    "#But [] method is easier to expand to multiple columns and/or create new columns\n",
    "#And might as well look at it in histogram form.\n",
    "SA_train['Age'].hist()"
   ]
  },
  {
   "cell_type": "code",
   "execution_count": 8,
   "metadata": {
    "collapsed": false
   },
   "outputs": [
    {
     "data": {
      "text/plain": [
       "29.69911764705882"
      ]
     },
     "execution_count": 8,
     "metadata": {},
     "output_type": "execute_result"
    }
   ],
   "source": [
    "#What's the average age?\n",
    "SA_train['Age'].mean()"
   ]
  },
  {
   "cell_type": "code",
   "execution_count": 9,
   "metadata": {
    "collapsed": true
   },
   "outputs": [],
   "source": [
    "#Why don't we fill in the missing ages. But we don't want to corrupt original data, so first make new column\n",
    "SA_train['Age_Complete']=SA_train['Age'];\n",
    "#And then fill all the empty rows with 30:\n",
    "SA_train['Age_Complete'].fillna(30,inplace = True);"
   ]
  },
  {
   "cell_type": "code",
   "execution_count": 11,
   "metadata": {
    "collapsed": false
   },
   "outputs": [],
   "source": [
    "#Un-comment below to check if it worked\n",
    "#SA_train.head(10) #head give the top x rows of the dataset."
   ]
  },
  {
   "cell_type": "code",
   "execution_count": 10,
   "metadata": {
    "collapsed": false
   },
   "outputs": [
    {
     "data": {
      "text/plain": [
       "S    644\n",
       "C    168\n",
       "Q     77\n",
       "Name: Embarked, dtype: int64"
      ]
     },
     "execution_count": 10,
     "metadata": {},
     "output_type": "execute_result"
    }
   ],
   "source": [
    "#Similiar Problem with Embarked:\n",
    "pd.value_counts(SA_train['Embarked']) #A nice auto-count of unique terms in a column"
   ]
  },
  {
   "cell_type": "code",
   "execution_count": 11,
   "metadata": {
    "collapsed": true
   },
   "outputs": [],
   "source": [
    "#S is the most common, so let's make a new column and replace N/A with S:\n",
    "SA_train['Embarked_Complete']=SA_train['Embarked'];\n",
    "SA_train['Embarked_Complete'].fillna('S', inplace = True);"
   ]
  },
  {
   "cell_type": "code",
   "execution_count": 12,
   "metadata": {
    "collapsed": false
   },
   "outputs": [
    {
     "data": {
      "text/plain": [
       "S    646\n",
       "C    168\n",
       "Q     77\n",
       "Name: Embarked_Complete, dtype: int64"
      ]
     },
     "execution_count": 12,
     "metadata": {},
     "output_type": "execute_result"
    }
   ],
   "source": [
    "#Different way to check:\n",
    "pd.value_counts(SA_train['Embarked_Complete']) #A nice auto-count of unique terms in a column"
   ]
  },
  {
   "cell_type": "code",
   "execution_count": 13,
   "metadata": {
    "collapsed": false
   },
   "outputs": [],
   "source": [
    "#Finally, we have the Cabin column: (Un-comment to see)\n",
    "#pd.value_counts(SA_train['Cabin'])"
   ]
  },
  {
   "cell_type": "code",
   "execution_count": 13,
   "metadata": {
    "collapsed": false
   },
   "outputs": [],
   "source": [
    "#It looks pretty useless. If we look at outcomes cut by Cabin not being N/A:\n",
    "SA_train['Cabin?']=SA_train['Cabin'];\n",
    "SA_train['Cabin?'].fillna('No', inplace = True);"
   ]
  },
  {
   "cell_type": "code",
   "execution_count": 16,
   "metadata": {
    "collapsed": false
   },
   "outputs": [
    {
     "name": "stdout",
     "output_type": "stream",
     "text": [
      "0    481\n",
      "1    206\n",
      "Name: Survived, dtype: int64\n",
      "1    136\n",
      "0     68\n",
      "Name: Survived, dtype: int64\n"
     ]
    }
   ],
   "source": [
    "print( pd.value_counts(SA_train[SA_train['Cabin?']=='No']['Survived']))\n",
    "print( pd.value_counts(SA_train[SA_train['Cabin?']!='No']['Survived']))"
   ]
  },
  {
   "cell_type": "code",
   "execution_count": 36,
   "metadata": {
    "collapsed": true
   },
   "outputs": [],
   "source": [
    "#Oh look, turns out having an assigned cabin is very good towards one's health."
   ]
  },
  {
   "cell_type": "code",
   "execution_count": 14,
   "metadata": {
    "collapsed": false
   },
   "outputs": [
    {
     "data": {
      "text/plain": [
       "<matplotlib.axes._subplots.AxesSubplot at 0x20a3ae68828>"
      ]
     },
     "execution_count": 14,
     "metadata": {},
     "output_type": "execute_result"
    },
    {
     "data": {
      "image/png": "[encoded data removed]",
      "text/plain": [
       "<matplotlib.figure.Figure at 0x20a3abeabe0>"
      ]
     },
     "metadata": {},
     "output_type": "display_data"
    }
   ],
   "source": [
    "#I'll keep making new columns to cut my data into features. Next up, Fare\n",
    "SA_train['Fare'].hist(bins=30, range=(0,100), alpha = .5) #There are fares >$100, but few."
   ]
  },
  {
   "cell_type": "code",
   "execution_count": 15,
   "metadata": {
    "collapsed": false
   },
   "outputs": [
    {
     "name": "stdout",
     "output_type": "stream",
     "text": [
      "48.39540760233917\n",
      "22.117886885245877\n"
     ]
    }
   ],
   "source": [
    "#We can also see that the average fare of those that survived is higher than those that did not:\n",
    "print (SA_train[SA_train['Survived']==1]['Fare'].mean())\n",
    "print (SA_train[SA_train['Survived']==0]['Fare'].mean())"
   ]
  },
  {
   "cell_type": "code",
   "execution_count": null,
   "metadata": {
    "collapsed": true
   },
   "outputs": [],
   "source": [
    "#But how should we bin the fares together? Right now there are so many, we would overfit our data.\n",
    "#Let's take a look at the survival rate of groups of fares, binned into some smallish grouping (say $5)"
   ]
  },
  {
   "cell_type": "code",
   "execution_count": 16,
   "metadata": {
    "collapsed": false
   },
   "outputs": [
    {
     "data": {
      "text/plain": [
       "[<matplotlib.lines.Line2D at 0x20a3b2aa400>]"
      ]
     },
     "execution_count": 16,
     "metadata": {},
     "output_type": "execute_result"
    },
    {
     "data": {
      "image/png": "[encoded data removed]",
      "text/plain": [
       "<matplotlib.figure.Figure at 0x20a3aa03cf8>"
      ]
     },
     "metadata": {},
     "output_type": "display_data"
    }
   ],
   "source": [
    "survival_rate=[]; #where I'll store survival rates for each dollar grouping\n",
    "dollar_bins=[]; #where I'll store the dollar groupings\n",
    "n=5; #Chosen dollar groupings\n",
    "for xx in range(0,20): #I'm only looking up to $100 dollar fare cost, and assume everyone above that is rich.\n",
    "    #OK, inefficient for loops instead of anything vectorized.\n",
    "    #But, it's easier to see what's going on.\n",
    "    y=0;\n",
    "    z=0;\n",
    "    #Counting how many people survived in fare group (y) compared to total polution in fare group (z)\n",
    "    for x in range(0,len(SA_train)):\n",
    "        if SA_train['Fare'][x]>=n*xx and SA_train['Fare'][x]<n*(xx+1):\n",
    "            if SA_train['Survived'][x]==1:\n",
    "                y=y+1\n",
    "            z=z+1\n",
    "    try:\n",
    "        survival_rate.append(y/z);\n",
    "        dollar_bins.append(n*xx);\n",
    "    except:\n",
    "        pass\n",
    "plt.plot(dollar_bins,survival_rate,'ro')"
   ]
  },
  {
   "cell_type": "code",
   "execution_count": 17,
   "metadata": {
    "collapsed": false
   },
   "outputs": [
    {
     "data": {
      "text/plain": [
       "0.19940476190476192"
      ]
     },
     "execution_count": 17,
     "metadata": {},
     "output_type": "execute_result"
    }
   ],
   "source": [
    "#So, it looks like we could divide by 10 and 50 if we liked:\n",
    "#just double checking the divides are well placed.\n",
    "test=pd.value_counts(SA_train[SA_train['Fare']<10]['Survived'])\n",
    "test[1]/(test[0]+test[1])"
   ]
  },
  {
   "cell_type": "code",
   "execution_count": 18,
   "metadata": {
    "collapsed": false
   },
   "outputs": [
    {
     "data": {
      "text/plain": [
       "0.42131979695431471"
      ]
     },
     "execution_count": 18,
     "metadata": {},
     "output_type": "execute_result"
    }
   ],
   "source": [
    "test=pd.value_counts(SA_train[(SA_train['Fare'] >= 10) & (SA_train['Fare'] < 50)]['Survived'])\n",
    "test[1]/(test[0]+test[1])"
   ]
  },
  {
   "cell_type": "code",
   "execution_count": 19,
   "metadata": {
    "collapsed": false
   },
   "outputs": [
    {
     "data": {
      "text/plain": [
       "0.67701863354037262"
      ]
     },
     "execution_count": 19,
     "metadata": {},
     "output_type": "execute_result"
    }
   ],
   "source": [
    "test=pd.value_counts(SA_train[(SA_train['Fare'] >= 50)]['Survived'])\n",
    "test[1]/(test[0]+test[1])"
   ]
  },
  {
   "cell_type": "code",
   "execution_count": 22,
   "metadata": {
    "collapsed": false
   },
   "outputs": [
    {
     "data": {
      "text/plain": [
       "array(['PassengerId', 'Survived', 'Pclass', 'Name', 'Sex', 'Age', 'SibSp',\n",
       "       'Parch', 'Ticket', 'Fare', 'Cabin', 'Embarked', 'Age_Complete',\n",
       "       'Embarked_Complete', 'Cabin?'], dtype=object)"
      ]
     },
     "execution_count": 22,
     "metadata": {},
     "output_type": "execute_result"
    }
   ],
   "source": [
    "SA_train.columns.values"
   ]
  },
  {
   "cell_type": "code",
   "execution_count": 20,
   "metadata": {
    "collapsed": false
   },
   "outputs": [],
   "source": [
    "#Creating new feature with only a few fare groupings.\n",
    "SA_train['Fare_Reduced']=2;\n",
    "for x in range(0,len(SA_train)):\n",
    "    if SA_train.loc[x,'Fare']<10:\n",
    "        SA_train.loc[x,'Fare_Reduced']=0;\n",
    "    elif SA_train.loc[x,'Fare']<50:\n",
    "        SA_train.loc[x,'Fare_Reduced']=1"
   ]
  },
  {
   "cell_type": "code",
   "execution_count": 21,
   "metadata": {
    "collapsed": false
   },
   "outputs": [
    {
     "data": {
      "text/plain": [
       "1    394\n",
       "0    336\n",
       "2    161\n",
       "Name: Fare_Reduced, dtype: int64"
      ]
     },
     "execution_count": 21,
     "metadata": {},
     "output_type": "execute_result"
    }
   ],
   "source": [
    "pd.value_counts(SA_train['Fare_Reduced'])"
   ]
  },
  {
   "cell_type": "code",
   "execution_count": 22,
   "metadata": {
    "collapsed": false
   },
   "outputs": [
    {
     "data": {
      "text/plain": [
       "[<matplotlib.lines.Line2D at 0x20a3b324ac8>]"
      ]
     },
     "execution_count": 22,
     "metadata": {},
     "output_type": "execute_result"
    },
    {
     "data": {
      "image/png": "[encoded data removed]",
      "text/plain": [
       "<matplotlib.figure.Figure at 0x20a3b270c50>"
      ]
     },
     "metadata": {},
     "output_type": "display_data"
    }
   ],
   "source": [
    "#We need to reduce the ages too:\n",
    "survival_rate=[];\n",
    "age_bins=[];\n",
    "n=5;\n",
    "for xx in range(0,20):\n",
    "    y=0;\n",
    "    z=0;\n",
    "    for x in range(0,len(SA_train)):\n",
    "        if SA_train.loc[x,'Age_Complete']>=n*xx and SA_train.loc[x,'Age_Complete']<n*(xx+1):\n",
    "            if SA_train.loc[x,'Survived']==1:\n",
    "                y=y+1\n",
    "            z=z+1\n",
    "    try:\n",
    "        survival_rate.append(y/z);\n",
    "        age_bins.append(n*xx);\n",
    "    except:\n",
    "        pass\n",
    "plt.plot(age_bins,survival_rate,'ro')"
   ]
  },
  {
   "cell_type": "code",
   "execution_count": 23,
   "metadata": {
    "collapsed": false
   },
   "outputs": [
    {
     "data": {
      "text/plain": [
       "0.8571428571428571"
      ]
     },
     "execution_count": 23,
     "metadata": {},
     "output_type": "execute_result"
    }
   ],
   "source": [
    "#Suggests 0, 20, 60 as cut offs\n",
    "test=pd.value_counts(SA_train[(SA_train['Age_Complete'] < 2)]['Survived'])\n",
    "test[1]/(test[0]+test[1])"
   ]
  },
  {
   "cell_type": "code",
   "execution_count": 24,
   "metadata": {
    "collapsed": false
   },
   "outputs": [
    {
     "data": {
      "text/plain": [
       "0.57692307692307687"
      ]
     },
     "execution_count": 24,
     "metadata": {},
     "output_type": "execute_result"
    }
   ],
   "source": [
    "test=pd.value_counts(SA_train[(SA_train['Age_Complete'] >= 2) & (SA_train['Age_Complete'] < 5)]['Survived'])\n",
    "test[1]/(test[0]+test[1])"
   ]
  },
  {
   "cell_type": "code",
   "execution_count": 25,
   "metadata": {
    "collapsed": false
   },
   "outputs": [
    {
     "data": {
      "text/plain": [
       "0.46575342465753422"
      ]
     },
     "execution_count": 25,
     "metadata": {},
     "output_type": "execute_result"
    }
   ],
   "source": [
    "test=pd.value_counts(SA_train[(SA_train['Age_Complete'] >= 5) & (SA_train['Age_Complete'] < 18)]['Survived'])\n",
    "test[1]/(test[0]+test[1])"
   ]
  },
  {
   "cell_type": "code",
   "execution_count": 26,
   "metadata": {
    "collapsed": false
   },
   "outputs": [
    {
     "data": {
      "text/plain": [
       "0.36436170212765956"
      ]
     },
     "execution_count": 26,
     "metadata": {},
     "output_type": "execute_result"
    }
   ],
   "source": [
    "test=pd.value_counts(SA_train[(SA_train['Age_Complete'] >= 18) & (SA_train['Age_Complete'] < 60)]['Survived'])\n",
    "test[1]/(test[0]+test[1])"
   ]
  },
  {
   "cell_type": "code",
   "execution_count": 27,
   "metadata": {
    "collapsed": false
   },
   "outputs": [
    {
     "data": {
      "text/plain": [
       "0.26923076923076922"
      ]
     },
     "execution_count": 27,
     "metadata": {},
     "output_type": "execute_result"
    }
   ],
   "source": [
    "\n",
    "test=pd.value_counts(SA_train[(SA_train['Age_Complete'] >= 60)]['Survived'])\n",
    "test[1]/(test[0]+test[1])"
   ]
  },
  {
   "cell_type": "code",
   "execution_count": 29,
   "metadata": {
    "collapsed": true
   },
   "outputs": [],
   "source": [
    "#decided to break ages differently after checking above:\n",
    "SA_train['Age_Reduced']=4;\n",
    "for x in range(0,len(SA_train)):\n",
    "    if SA_train.loc[x,'Age_Complete']<2:\n",
    "        SA_train.loc[x,'Age_Reduced']=0;\n",
    "    elif SA_train.loc[x,'Age_Complete']<5:\n",
    "        SA_train.loc[x,'Age_Reduced']=1;\n",
    "    elif SA_train.loc[x,'Age_Complete']<18:\n",
    "        SA_train.loc[x,'Age_Reduced']=2;\n",
    "    elif SA_train.loc[x,'Age_Complete']<60:\n",
    "        SA_train.loc[x,'Age_Reduced']=3;"
   ]
  },
  {
   "cell_type": "code",
   "execution_count": 30,
   "metadata": {
    "collapsed": false
   },
   "outputs": [],
   "source": [
    "#Now we make everything a number. Numbers are what our machine learning algorithm needs.\n",
    "#starting with sex\n",
    "# let women =0 and men=1\n",
    "SA_train['Sex_Number']=SA_train['Sex'].map({'female':0, 'male':1}).astype(int)"
   ]
  },
  {
   "cell_type": "code",
   "execution_count": 31,
   "metadata": {
    "collapsed": true
   },
   "outputs": [],
   "source": [
    "#And Embarked location:\n",
    "# let S =0, C=1, and Q=2\n",
    "SA_train['Embarked_Number']=SA_train['Embarked_Complete'].map({'S':0, 'C':1,'Q':2}).astype(int)"
   ]
  },
  {
   "cell_type": "code",
   "execution_count": 32,
   "metadata": {
    "collapsed": true
   },
   "outputs": [],
   "source": [
    "#Finally, a different, slower loop for Cabin?:\n",
    "SA_train['Cabin_Number']=1;\n",
    "for x in range(0,len(SA_train)):\n",
    "    if SA_train.loc[x,'Cabin?']=='No':\n",
    "        SA_train.loc[x,'Cabin_Number']=0;"
   ]
  },
  {
   "cell_type": "code",
   "execution_count": 33,
   "metadata": {
    "collapsed": false
   },
   "outputs": [
    {
     "data": {
      "text/html": [
       "<div>\n",
       "<table border=\"1\" class=\"dataframe\">\n",
       "  <thead>\n",
       "    <tr style=\"text-align: right;\">\n",
       "      <th></th>\n",
       "      <th>Survived</th>\n",
       "      <th>Pclass</th>\n",
       "      <th>Sex_Number</th>\n",
       "      <th>Fare_Reduced</th>\n",
       "      <th>Age_Reduced</th>\n",
       "      <th>Embarked_Number</th>\n",
       "      <th>Cabin_Number</th>\n",
       "    </tr>\n",
       "  </thead>\n",
       "  <tbody>\n",
       "    <tr>\n",
       "      <th>0</th>\n",
       "      <td>0</td>\n",
       "      <td>3</td>\n",
       "      <td>1</td>\n",
       "      <td>0</td>\n",
       "      <td>3</td>\n",
       "      <td>0</td>\n",
       "      <td>0</td>\n",
       "    </tr>\n",
       "    <tr>\n",
       "      <th>1</th>\n",
       "      <td>1</td>\n",
       "      <td>1</td>\n",
       "      <td>0</td>\n",
       "      <td>2</td>\n",
       "      <td>3</td>\n",
       "      <td>1</td>\n",
       "      <td>1</td>\n",
       "    </tr>\n",
       "    <tr>\n",
       "      <th>2</th>\n",
       "      <td>1</td>\n",
       "      <td>3</td>\n",
       "      <td>0</td>\n",
       "      <td>0</td>\n",
       "      <td>3</td>\n",
       "      <td>0</td>\n",
       "      <td>0</td>\n",
       "    </tr>\n",
       "    <tr>\n",
       "      <th>3</th>\n",
       "      <td>1</td>\n",
       "      <td>1</td>\n",
       "      <td>0</td>\n",
       "      <td>2</td>\n",
       "      <td>3</td>\n",
       "      <td>0</td>\n",
       "      <td>1</td>\n",
       "    </tr>\n",
       "    <tr>\n",
       "      <th>4</th>\n",
       "      <td>0</td>\n",
       "      <td>3</td>\n",
       "      <td>1</td>\n",
       "      <td>0</td>\n",
       "      <td>3</td>\n",
       "      <td>0</td>\n",
       "      <td>0</td>\n",
       "    </tr>\n",
       "  </tbody>\n",
       "</table>\n",
       "</div>"
      ],
      "text/plain": [
       "   Survived  Pclass  Sex_Number  Fare_Reduced  Age_Reduced  Embarked_Number  \\\n",
       "0         0       3           1             0            3                0   \n",
       "1         1       1           0             2            3                1   \n",
       "2         1       3           0             0            3                0   \n",
       "3         1       1           0             2            3                0   \n",
       "4         0       3           1             0            3                0   \n",
       "\n",
       "   Cabin_Number  \n",
       "0             0  \n",
       "1             1  \n",
       "2             0  \n",
       "3             1  \n",
       "4             0  "
      ]
     },
     "execution_count": 33,
     "metadata": {},
     "output_type": "execute_result"
    }
   ],
   "source": [
    "SA_train[['Survived','Pclass','Sex_Number','Fare_Reduced','Age_Reduced','Embarked_Number','Cabin_Number']].head()"
   ]
  },
  {
   "cell_type": "code",
   "execution_count": 34,
   "metadata": {
    "collapsed": true
   },
   "outputs": [],
   "source": [
    "SA_trainReduced=SA_train[['Survived','Pclass','Sex_Number','Fare_Reduced','Age_Reduced','Embarked_Number','Cabin_Number']]"
   ]
  },
  {
   "cell_type": "code",
   "execution_count": 35,
   "metadata": {
    "collapsed": false
   },
   "outputs": [],
   "source": [
    "#Think we're done?\n",
    "#NOPE\n",
    "#Still need to repeat it all for the test set:\n",
    "SA_test=pd.read_csv('test.csv', header=0)"
   ]
  },
  {
   "cell_type": "code",
   "execution_count": 36,
   "metadata": {
    "collapsed": false
   },
   "outputs": [
    {
     "name": "stdout",
     "output_type": "stream",
     "text": [
      "<class 'pandas.core.frame.DataFrame'>\n",
      "RangeIndex: 418 entries, 0 to 417\n",
      "Data columns (total 11 columns):\n",
      "PassengerId    418 non-null int64\n",
      "Pclass         418 non-null int64\n",
      "Name           418 non-null object\n",
      "Sex            418 non-null object\n",
      "Age            332 non-null float64\n",
      "SibSp          418 non-null int64\n",
      "Parch          418 non-null int64\n",
      "Ticket         418 non-null object\n",
      "Fare           417 non-null float64\n",
      "Cabin          91 non-null object\n",
      "Embarked       418 non-null object\n",
      "dtypes: float64(2), int64(4), object(5)\n",
      "memory usage: 36.0+ KB\n"
     ]
    }
   ],
   "source": [
    "#Added problem of the missing fare in the test set:\n",
    "SA_test.info()"
   ]
  },
  {
   "cell_type": "code",
   "execution_count": 37,
   "metadata": {
    "collapsed": true
   },
   "outputs": [],
   "source": [
    "SA_test['Age_Complete']=SA_test['Age'];\n",
    "SA_test['Age_Complete'].fillna(30,inplace = True);"
   ]
  },
  {
   "cell_type": "code",
   "execution_count": 38,
   "metadata": {
    "collapsed": true
   },
   "outputs": [],
   "source": [
    "SA_test['Embarked_Complete']=SA_test['Embarked'];\n",
    "SA_test['Embarked_Complete'].fillna('S', inplace = True);"
   ]
  },
  {
   "cell_type": "code",
   "execution_count": 39,
   "metadata": {
    "collapsed": true
   },
   "outputs": [],
   "source": [
    "SA_test['Cabin?']=SA_test['Cabin'];\n",
    "SA_test['Cabin?'].fillna('No', inplace = True);"
   ]
  },
  {
   "cell_type": "code",
   "execution_count": 40,
   "metadata": {
    "collapsed": false
   },
   "outputs": [],
   "source": [
    "SA_test['Fare'].fillna(SA_train['Fare'].mean(),inplace=True);"
   ]
  },
  {
   "cell_type": "code",
   "execution_count": 41,
   "metadata": {
    "collapsed": true
   },
   "outputs": [],
   "source": [
    "SA_test['Fare_Reduced']=2;\n",
    "for x in range(0,len(SA_test)):\n",
    "    if SA_test.loc[x,'Fare']<10:\n",
    "        SA_test.loc[x,'Fare_Reduced']=0;\n",
    "    elif SA_test.loc[x,'Fare']<50:\n",
    "        SA_test.loc[x,'Fare_Reduced']=1"
   ]
  },
  {
   "cell_type": "code",
   "execution_count": 42,
   "metadata": {
    "collapsed": true
   },
   "outputs": [],
   "source": [
    "SA_test['Age_Reduced']=4;\n",
    "for x in range(0,len(SA_test)):\n",
    "    if SA_test.loc[x,'Age_Complete']<2:\n",
    "        SA_test.loc[x,'Age_Reduced']=0;\n",
    "    elif SA_test.loc[x,'Age_Complete']<5:\n",
    "        SA_test.loc[x,'Age_Reduced']=1;\n",
    "    elif SA_test.loc[x,'Age_Complete']<18:\n",
    "        SA_test.loc[x,'Age_Reduced']=2;\n",
    "    elif SA_test.loc[x,'Age_Complete']<60:\n",
    "        SA_test.loc[x,'Age_Reduced']=3;"
   ]
  },
  {
   "cell_type": "code",
   "execution_count": 43,
   "metadata": {
    "collapsed": true
   },
   "outputs": [],
   "source": [
    "SA_test['Sex_Number']=SA_test['Sex'].map({'female':0, 'male':1}).astype(int)\n",
    "SA_test['Embarked_Number']=SA_test['Embarked_Complete'].map({'S':0, 'C':1,'Q':2}).astype(int)\n",
    "#Finally, a different, slower loop for Cabin?:\n",
    "SA_test['Cabin_Number']=1;\n",
    "for x in range(0,len(SA_test)):\n",
    "    if SA_test.loc[x,'Cabin?']=='No':\n",
    "        SA_test.loc[x,'Cabin_Number']=0;"
   ]
  },
  {
   "cell_type": "code",
   "execution_count": 44,
   "metadata": {
    "collapsed": false
   },
   "outputs": [],
   "source": [
    "SA_testReduced=SA_test[['Pclass','Sex_Number','Fare_Reduced','Age_Reduced','Embarked_Number','Cabin_Number']]"
   ]
  },
  {
   "cell_type": "code",
   "execution_count": 45,
   "metadata": {
    "collapsed": false
   },
   "outputs": [],
   "source": [
    "#Leaving Pandas to have simple arrays for machine learning algorithms.\n",
    "train_data=SA_trainReduced.values"
   ]
  },
  {
   "cell_type": "code",
   "execution_count": 46,
   "metadata": {
    "collapsed": true
   },
   "outputs": [],
   "source": [
    "#Using machine learning package. Random forese--many subsets with n=100 people in each fitted,\n",
    "#then all results from subsets combined.  \n",
    "forest=RandomForestClassifier(n_estimators=100)\n",
    "#Telling package to train with the first column as answer (survived), all other columns are features to use to make model.\n",
    "forest=forest.fit(train_data[0::,1::],train_data[0::,0])\n",
    "output=forest.predict(train_data[0::,1::])"
   ]
  },
  {
   "cell_type": "code",
   "execution_count": 47,
   "metadata": {
    "collapsed": false
   },
   "outputs": [
    {
     "name": "stdout",
     "output_type": "stream",
     "text": [
      "[0 1 0 1 0 0 0 0 0 1]\n",
      "[0 1 1 1 0 0 0 0 1 1]\n"
     ]
    }
   ],
   "source": [
    "#How well did we do? Comparing first 10 results to model:\n",
    "print (output[0:10])\n",
    "print (train_data[0:10,0])"
   ]
  },
  {
   "cell_type": "code",
   "execution_count": 48,
   "metadata": {
    "collapsed": false
   },
   "outputs": [
    {
     "name": "stdout",
     "output_type": "stream",
     "text": [
      "0.8361391694725028\n"
     ]
    }
   ],
   "source": [
    "#success rate of model compared to training set:\n",
    "y=0\n",
    "for x in range(0,len(output)):\n",
    "    if output[x]==train_data[x,0]:\n",
    "        y=y+1\n",
    "print (1.*y/len(output))\n",
    "#Note: this is not really how we should check our model.\n",
    "#Really should break off ~20% of training set to use to verify model.\n",
    "#training done on only the 80% left, leaving the verifying set untouched before being used to check."
   ]
  },
  {
   "cell_type": "code",
   "execution_count": 49,
   "metadata": {
    "collapsed": false
   },
   "outputs": [],
   "source": [
    "#Just a list of features in model, used later\n",
    "features=['Pclass', 'Sex_Number', 'Fare_Reduced', 'Age_Reduced',\n",
    "       'Embarked_Number', 'Cabin_Number'];"
   ]
  },
  {
   "cell_type": "code",
   "execution_count": 50,
   "metadata": {
    "collapsed": false
   },
   "outputs": [
    {
     "data": {
      "image/png": "[encoded data removed]",
      "text/plain": [
       "<matplotlib.figure.Figure at 0x20a3b370dd8>"
      ]
     },
     "metadata": {},
     "output_type": "display_data"
    }
   ],
   "source": [
    "#This uses the machine learning package to determine which features are most important to our algorithm.\n",
    "horizontal=[]\n",
    "for x in range(0,len(features)):\n",
    "    horizontal.append(x);\n",
    "importance=forest.feature_importances_;\n",
    "\n",
    "plt.figure(1)\n",
    "h = plt.bar(horizontal, importance, label=features);\n",
    "plt.subplots_adjust(bottom=0.3);\n",
    "xticks_pos = [0.65*patch.get_width() + patch.get_xy()[0] for patch in h];\n",
    "plt.xticks(xticks_pos, features,  ha='right', rotation=45);"
   ]
  },
  {
   "cell_type": "code",
   "execution_count": null,
   "metadata": {
    "collapsed": true
   },
   "outputs": [],
   "source": [
    "#Now we enter the section where I practice with xgboost for the first time."
   ]
  },
  {
   "cell_type": "code",
   "execution_count": 61,
   "metadata": {
    "collapsed": false
   },
   "outputs": [],
   "source": [
    "train_X=SA_trainReduced.iloc[:,1:].as_matrix()\n",
    "train_Y=SA_trainReduced.iloc[:,0]"
   ]
  },
  {
   "cell_type": "code",
   "execution_count": null,
   "metadata": {
    "collapsed": true
   },
   "outputs": [],
   "source": [
    "train_X = big_X_imputed[0:train_df.shape[0]].as_matrix()\n",
    "test_X = big_X_imputed[train_df.shape[0]::].as_matrix()\n",
    "train_y = train_df['Survived']"
   ]
  },
  {
   "cell_type": "code",
   "execution_count": 64,
   "metadata": {
    "collapsed": false
   },
   "outputs": [],
   "source": [
    "multi:softprob\n",
    "    'binary:logistic'"
   ]
  },
  {
   "cell_type": "code",
   "execution_count": 116,
   "metadata": {
    "collapsed": false
   },
   "outputs": [],
   "source": [
    "gbm = xgb.XGBClassifier(max_depth=5, n_estimators=300, learning_rate=0.01,\n",
    "                       min_child_weight=1, gamma=5,reg_lambda=5,\n",
    "                       objective= 'binary:logistic').fit(train_X, train_Y)"
   ]
  },
  {
   "cell_type": "code",
   "execution_count": 108,
   "metadata": {
    "collapsed": true
   },
   "outputs": [],
   "source": [
    "predictions = gbm.predict(train_X)"
   ]
  },
  {
   "cell_type": "code",
   "execution_count": 109,
   "metadata": {
    "collapsed": false
   },
   "outputs": [
    {
     "name": "stdout",
     "output_type": "stream",
     "text": [
      "0.7407407407407407\n"
     ]
    }
   ],
   "source": [
    "#success rate of model compared to training set:\n",
    "y=0\n",
    "for x in range(0,len(predictions)):\n",
    "    if predictions[x]==train_Y[0]:\n",
    "        y=y+1\n",
    "print (1.*y/len(output))"
   ]
  },
  {
   "cell_type": "code",
   "execution_count": 52,
   "metadata": {
    "collapsed": false
   },
   "outputs": [],
   "source": [
    "#And can use the learned model to predict on test data:\n",
    "test_data=SA_testReduced.values"
   ]
  },
  {
   "cell_type": "code",
   "execution_count": 53,
   "metadata": {
    "collapsed": false
   },
   "outputs": [],
   "source": [
    "titanic_predictions=forest.predict(test_data)"
   ]
  },
  {
   "cell_type": "code",
   "execution_count": 54,
   "metadata": {
    "collapsed": false
   },
   "outputs": [],
   "source": [
    "IDs=SA_test['PassengerId']"
   ]
  },
  {
   "cell_type": "code",
   "execution_count": 55,
   "metadata": {
    "collapsed": true
   },
   "outputs": [],
   "source": [
    "Titanic=np.c_[IDs,titanic_predictions]"
   ]
  },
  {
   "cell_type": "code",
   "execution_count": 56,
   "metadata": {
    "collapsed": false
   },
   "outputs": [],
   "source": [
    "#np.savetxt(\"titanic_predictions.csv\", Titanic, delimiter=\",\")\n",
    "#Success rate: .75"
   ]
  },
  {
   "cell_type": "code",
   "execution_count": 140,
   "metadata": {
    "collapsed": true
   },
   "outputs": [],
   "source": [
    "#We can also now move onto other ways to predict. Let's try logistic regression:"
   ]
  },
  {
   "cell_type": "code",
   "execution_count": 57,
   "metadata": {
    "collapsed": false
   },
   "outputs": [],
   "source": [
    "#To do that, first we need to change out inputs into long vectors:\n",
    "Ypart=train_data[:,0]\n",
    "Xpart=train_data[:,1:]"
   ]
  },
  {
   "cell_type": "code",
   "execution_count": 58,
   "metadata": {
    "collapsed": false
   },
   "outputs": [
    {
     "data": {
      "text/plain": [
       "array([[3, 1, 3, ..., 3, 1, 3],\n",
       "       [1, 0, 0, ..., 0, 1, 1],\n",
       "       [0, 2, 0, ..., 1, 1, 0],\n",
       "       [3, 3, 3, ..., 3, 3, 3],\n",
       "       [0, 1, 0, ..., 0, 1, 2],\n",
       "       [0, 1, 0, ..., 0, 1, 0]], dtype=int64)"
      ]
     },
     "execution_count": 58,
     "metadata": {},
     "output_type": "execute_result"
    }
   ],
   "source": [
    "np.transpose(Xpart)"
   ]
  },
  {
   "cell_type": "code",
   "execution_count": 59,
   "metadata": {
    "collapsed": false
   },
   "outputs": [],
   "source": [
    "Features=SA_trainReduced.iloc[:,1:].columns.values"
   ]
  },
  {
   "cell_type": "code",
   "execution_count": 60,
   "metadata": {
    "collapsed": false
   },
   "outputs": [
    {
     "name": "stdout",
     "output_type": "stream",
     "text": [
      "18\n"
     ]
    }
   ],
   "source": [
    "#First we find out how large of a vector each passanager will be:\n",
    "y=0;\n",
    "for x in range(0,len(Features)):\n",
    "    y=y+len(SA_trainReduced[Features[x]].unique())\n",
    "print (y)"
   ]
  },
  {
   "cell_type": "code",
   "execution_count": 62,
   "metadata": {
    "collapsed": false
   },
   "outputs": [],
   "source": [
    "#Now make an array for each feature\n",
    "Xs=[];\n",
    "for z in range(0,len(Features)):\n",
    "    Xvector=np.zeros((len(SA_trainReduced),len(SA_trainReduced[Features[z]].unique())))\n",
    "    #print(   Xvector[0]  )\n",
    "    subFeatures=np.sort(SA_trainReduced[Features[z]].unique())\n",
    "    #print( subFeatures)\n",
    "    subFeatureDic={};\n",
    "    for x in range(0,len(subFeatures)):\n",
    "        subFeatureDic[subFeatures[x]]=[x]\n",
    "    #print ( subFeatureDic)\n",
    "    y=0;\n",
    "    for xx in range(0,len(Xvector)):\n",
    "        Xvector[xx,subFeatureDic[SA_trainReduced[Features[z]][xx]][0]]=1\n",
    "    #print (Xvector[0:5])\n",
    "    Xs.append(Xvector)"
   ]
  },
  {
   "cell_type": "code",
   "execution_count": 63,
   "metadata": {
    "collapsed": false
   },
   "outputs": [],
   "source": [
    "FeatureVectors=Xs[0];\n",
    "for x in range(1,len(Features)):\n",
    "    FeatureVectors=np.c_[FeatureVectors,Xs[x]]"
   ]
  },
  {
   "cell_type": "code",
   "execution_count": 64,
   "metadata": {
    "collapsed": true
   },
   "outputs": [],
   "source": [
    "Y=np.zeros((len(SA_train),2))"
   ]
  },
  {
   "cell_type": "code",
   "execution_count": 65,
   "metadata": {
    "collapsed": false
   },
   "outputs": [],
   "source": [
    "for x in range(0,len(Y)):\n",
    "    Y[x,Ypart[x]]=1"
   ]
  },
  {
   "cell_type": "code",
   "execution_count": 66,
   "metadata": {
    "collapsed": false
   },
   "outputs": [
    {
     "data": {
      "text/plain": [
       "array([[ 1.,  0.],\n",
       "       [ 0.,  1.],\n",
       "       [ 0.,  1.],\n",
       "       ..., \n",
       "       [ 1.,  0.],\n",
       "       [ 0.,  1.],\n",
       "       [ 1.,  0.]])"
      ]
     },
     "execution_count": 66,
     "metadata": {},
     "output_type": "execute_result"
    }
   ],
   "source": [
    "Y"
   ]
  },
  {
   "cell_type": "code",
   "execution_count": 67,
   "metadata": {
    "collapsed": false
   },
   "outputs": [
    {
     "data": {
      "text/plain": [
       "[<matplotlib.lines.Line2D at 0x1f6c0315b38>]"
      ]
     },
     "execution_count": 67,
     "metadata": {},
     "output_type": "execute_result"
    },
    {
     "data": {
      "image/png": "[encoded data removed]",
      "text/plain": [
       "<matplotlib.figure.Figure at 0x1f6c02d9f98>"
      ]
     },
     "metadata": {},
     "output_type": "display_data"
    }
   ],
   "source": [
    "Xtest=FeatureVectors;\n",
    "Ytest=Y;\n",
    "Costfunctions=[];\n",
    "Thetatest=np.asmatrix(np.random.rand(Xtest[0].size,Ytest[0].size)/100.)\n",
    "m=len(Xtest);\n",
    "#m=10;\n",
    "for k in range(0,3000):\n",
    "    z2=Xtest[0:m]*Thetatest\n",
    "    a2=1./(1.+np.exp(-z2));\n",
    "    J=-1./m*(np.sum(np.multiply(Ytest[0:m],np.log(a2))+np.multiply(1-Ytest[0:m],np.log(1-a2))))\n",
    "    alpha=.1;\n",
    "    Thetatest=Thetatest-alpha/m*(((a2-Ytest[0:m]).transpose()*Xtest[0:m]).transpose())\n",
    "    Costfunctions.append(J);\n",
    "    try:\n",
    "        if (Costfunctions[-2]-Costfunctions[-1])<.00005:\n",
    "            break\n",
    "    except:\n",
    "        pass\n",
    "plt.plot(Costfunctions)\n",
    "    #z2cv=Xcv[0:mcv]*Thetatest\n",
    "    #a2cv=1./(1.+np.exp(-z2cv));\n",
    "    #Jcv=-1./mcv*(np.sum(np.multiply(Ycv[0:mcv],np.log(a2cv))+np.multiply(1-Ycv[0:mcv],np.log(1-a2cv))))\n",
    "    #PredictedScoreT=-1./m*(np.sum(np.multiply(Ytest[0:m],np.log(a2))));\n",
    "    #PredictedScoreCV=-1./mcv*(np.sum(np.multiply(Ycv[0:mcv],np.log(a2cv))));\n",
    "    #return Thetatest,a2, Costfunctions, a2cv, Jcv,PredictedScoreT,PredictedScoreCV"
   ]
  },
  {
   "cell_type": "code",
   "execution_count": 69,
   "metadata": {
    "collapsed": false
   },
   "outputs": [],
   "source": [
    "test=1./(1.+np.exp(-FeatureVectors*Thetatest))"
   ]
  },
  {
   "cell_type": "code",
   "execution_count": 367,
   "metadata": {
    "collapsed": false
   },
   "outputs": [
    {
     "data": {
      "text/plain": [
       "0.91224228419554887"
      ]
     },
     "execution_count": 367,
     "metadata": {},
     "output_type": "execute_result"
    }
   ],
   "source": [
    "test[0].max()"
   ]
  },
  {
   "cell_type": "code",
   "execution_count": 72,
   "metadata": {
    "collapsed": true
   },
   "outputs": [],
   "source": [
    "test=a2==np.max(a2,axis=1);\n",
    "test2=test.astype(int);"
   ]
  },
  {
   "cell_type": "code",
   "execution_count": 369,
   "metadata": {
    "collapsed": false
   },
   "outputs": [
    {
     "data": {
      "text/plain": [
       "matrix([[1, 0],\n",
       "        [0, 1],\n",
       "        [1, 0],\n",
       "        ..., \n",
       "        [0, 1],\n",
       "        [1, 0],\n",
       "        [1, 0]])"
      ]
     },
     "execution_count": 369,
     "metadata": {},
     "output_type": "execute_result"
    }
   ],
   "source": [
    "test2"
   ]
  },
  {
   "cell_type": "code",
   "execution_count": 70,
   "metadata": {
    "collapsed": false
   },
   "outputs": [],
   "source": [
    "solutions=np.zeros((len(test),1))"
   ]
  },
  {
   "cell_type": "code",
   "execution_count": 73,
   "metadata": {
    "collapsed": false
   },
   "outputs": [],
   "source": [
    "for x in range(0,len(test2)):\n",
    "    if test2[x,1]==1:\n",
    "        solutions[x]=1"
   ]
  },
  {
   "cell_type": "code",
   "execution_count": 74,
   "metadata": {
    "collapsed": false
   },
   "outputs": [],
   "source": [
    "LogisticPredictions=solutions"
   ]
  },
  {
   "cell_type": "code",
   "execution_count": 75,
   "metadata": {
    "collapsed": false
   },
   "outputs": [
    {
     "name": "stdout",
     "output_type": "stream",
     "text": [
      "0.7957351290684624\n"
     ]
    }
   ],
   "source": [
    "y=0\n",
    "for x in range(0,len(Ypart)):\n",
    "    if Ypart[x]==LogisticPredictions[x]:\n",
    "        y=y+1\n",
    "print (y/len(Ypart))"
   ]
  },
  {
   "cell_type": "code",
   "execution_count": null,
   "metadata": {
    "collapsed": true
   },
   "outputs": [],
   "source": [
    "#Ok, but Logistic Regression can't create new variables for you. So, let's make up some more."
   ]
  },
  {
   "cell_type": "code",
   "execution_count": 79,
   "metadata": {
    "collapsed": false
   },
   "outputs": [
    {
     "data": {
      "text/plain": [
       "array(['PassengerId', 'Survived', 'Pclass', 'Name', 'Sex', 'Age', 'SibSp',\n",
       "       'Parch', 'Ticket', 'Fare', 'Cabin', 'Embarked', 'Age_Complete',\n",
       "       'Embarked_Complete', 'Cabin?', 'Fare_Reduced', 'Age_Reduced',\n",
       "       'Sex_Number', 'Embarked_Number', 'Cabin_Number'], dtype=object)"
      ]
     },
     "execution_count": 79,
     "metadata": {},
     "output_type": "execute_result"
    }
   ],
   "source": [
    "SA_train.columns.values"
   ]
  },
  {
   "cell_type": "code",
   "execution_count": 84,
   "metadata": {
    "collapsed": false
   },
   "outputs": [
    {
     "data": {
      "text/html": [
       "<div>\n",
       "<table border=\"1\" class=\"dataframe\">\n",
       "  <thead>\n",
       "    <tr style=\"text-align: right;\">\n",
       "      <th></th>\n",
       "      <th>Sex</th>\n",
       "      <th>Sex_Number</th>\n",
       "      <th>Pclass</th>\n",
       "    </tr>\n",
       "  </thead>\n",
       "  <tbody>\n",
       "    <tr>\n",
       "      <th>0</th>\n",
       "      <td>male</td>\n",
       "      <td>1</td>\n",
       "      <td>3</td>\n",
       "    </tr>\n",
       "    <tr>\n",
       "      <th>1</th>\n",
       "      <td>female</td>\n",
       "      <td>0</td>\n",
       "      <td>1</td>\n",
       "    </tr>\n",
       "    <tr>\n",
       "      <th>2</th>\n",
       "      <td>female</td>\n",
       "      <td>0</td>\n",
       "      <td>3</td>\n",
       "    </tr>\n",
       "  </tbody>\n",
       "</table>\n",
       "</div>"
      ],
      "text/plain": [
       "      Sex  Sex_Number  Pclass\n",
       "0    male           1       3\n",
       "1  female           0       1\n",
       "2  female           0       3"
      ]
     },
     "execution_count": 84,
     "metadata": {},
     "output_type": "execute_result"
    }
   ],
   "source": [
    "SA_train[['Sex','Sex_Number','Pclass']].head(3)"
   ]
  },
  {
   "cell_type": "code",
   "execution_count": 173,
   "metadata": {
    "collapsed": false
   },
   "outputs": [
    {
     "data": {
      "image/png": "[encoded data removed]",
      "text/plain": [
       "<matplotlib.figure.Figure at 0x1f6c195e9b0>"
      ]
     },
     "metadata": {},
     "output_type": "display_data"
    }
   ],
   "source": [
    "#First compound variable: sex and class:\n",
    "Class=[];\n",
    "SurvivalRate=[];\n",
    "x=0;\n",
    "y=0;\n",
    "z=0;\n",
    "for sex in range(0,2):\n",
    "    subClass=[];\n",
    "    subSurvivalRate=[];\n",
    "    for C in range(1,4):\n",
    "        test=pd.value_counts(SA_train[(SA_train['Sex_Number']==sex) & (SA_train['Pclass']==C)]['Survived']);\n",
    "        try:\n",
    "            test2=1.*test[1]/(test[0]+test[1]);\n",
    "        except:\n",
    "            test2=1.;\n",
    "#        try:\n",
    "#            test3=test[0]+test[1];\n",
    "#        except:\n",
    "#            test3=test.values[0];\n",
    "        subClass.append(C);\n",
    "        subSurvivalRate.append(test2)\n",
    "    Class.append(subClass);\n",
    "    SurvivalRate.append(subSurvivalRate);\n",
    "#print ('survival rate of %s out of %s' % (test2,test3))\n",
    "plt.plot(Class[0],SurvivalRate[0],'mo',Class[1],SurvivalRate[1],'bo');"
   ]
  },
  {
   "cell_type": "code",
   "execution_count": null,
   "metadata": {
    "collapsed": true
   },
   "outputs": [],
   "source": [
    "#Over 90% survival for women in classes 1 and 2. \n",
    "#Only 16% survival or less for men in class 3 and 2.\n",
    "#"
   ]
  },
  {
   "cell_type": "code",
   "execution_count": 179,
   "metadata": {
    "collapsed": false
   },
   "outputs": [
    {
     "name": "stdout",
     "output_type": "stream",
     "text": [
      "survival rate of 0.684210526316 out of 38\n"
     ]
    }
   ],
   "source": [
    "#SA_train[(SA_train['Age_Complete'] >= 18) & (SA_train['Age_Complete'] < 60)]['Survived'])\n",
    "test=pd.value_counts(SA_train[(SA_train['Sex_Number']==0) & (SA_train['Age_Reduced']==2)]['Survived']);\n",
    "try:\n",
    "    test2=1.*test[1]/(test[0]+test[1]);\n",
    "except:\n",
    "    test2=1.;\n",
    "try:\n",
    "    test3=test[0]+test[1];\n",
    "except:\n",
    "    test3=test.values[0];\n",
    "#test2=2\n",
    "print ('survival rate of %s out of %s' % (test2,test3))"
   ]
  },
  {
   "cell_type": "code",
   "execution_count": 175,
   "metadata": {
    "collapsed": false
   },
   "outputs": [
    {
     "data": {
      "text/plain": [
       "array([3, 1, 2, 4, 0], dtype=int64)"
      ]
     },
     "execution_count": 175,
     "metadata": {},
     "output_type": "execute_result"
    }
   ],
   "source": [
    "SA_train['Age_Reduced'].unique()"
   ]
  },
  {
   "cell_type": "code",
   "execution_count": 210,
   "metadata": {
    "collapsed": false
   },
   "outputs": [
    {
     "data": {
      "image/png": "[encoded data removed]",
      "text/plain": [
       "<matplotlib.figure.Figure at 0x1f6c1bc54a8>"
      ]
     },
     "metadata": {},
     "output_type": "display_data"
    }
   ],
   "source": [
    "#Look at other variables:\n",
    "AgeReduced=[];\n",
    "SurvivalRate=[];\n",
    "x=0;\n",
    "y=0;\n",
    "z=0;\n",
    "for sex in range(0,2):\n",
    "    subAge=[];\n",
    "    subSurvivalRate=[];\n",
    "    for C in range(0,5):\n",
    "        test=pd.value_counts(SA_train[(SA_train['Sex_Number']==sex) & (SA_train['Age_Reduced']==C)]['Survived']);\n",
    "        try:\n",
    "            test2=1.*test[1]/(test[0]+test[1]);\n",
    "        except:\n",
    "            test2=1.;\n",
    "        try:\n",
    "            test3=test[0]+test[1];\n",
    "        except:\n",
    "            test3=test.values[0];\n",
    "        subAge.append(C);\n",
    "        subSurvivalRate.append(test2)\n",
    "        #print ('survival rate of %s out of %s' % (test2,test3))\n",
    "    AgeReduced.append(subAge);\n",
    "    SurvivalRate.append(subSurvivalRate);\n",
    "    \n",
    "plt.plot(AgeReduced[0],SurvivalRate[0],'mo',AgeReduced[1],SurvivalRate[1],'bo');"
   ]
  },
  {
   "cell_type": "code",
   "execution_count": 188,
   "metadata": {
    "collapsed": false
   },
   "outputs": [
    {
     "data": {
      "image/png": "[encoded data removed]",
      "text/plain": [
       "<matplotlib.figure.Figure at 0x1f6c0590080>"
      ]
     },
     "metadata": {},
     "output_type": "display_data"
    }
   ],
   "source": [
    "#Look at other variables:\n",
    "AgeReduced=[];\n",
    "SurvivalRate=[];\n",
    "x=0;\n",
    "y=0;\n",
    "z=0;\n",
    "for cab in range(0,2):\n",
    "    subAge=[];\n",
    "    subSurvivalRate=[];\n",
    "    for C in range(0,5):\n",
    "        test=pd.value_counts(SA_train[(SA_train['Cabin_Number']==cab) & (SA_train['Age_Reduced']==C)]['Survived']);\n",
    "        try:\n",
    "            test2=1.*test[1]/(test[0]+test[1]);\n",
    "        except:\n",
    "            test2=1.;\n",
    "#        try:\n",
    "#            test3=test[0]+test[1];\n",
    "#        except:\n",
    "#            test3=test.values[0];\n",
    "        subAge.append(C);\n",
    "        subSurvivalRate.append(test2)\n",
    "    AgeReduced.append(subAge);\n",
    "    SurvivalRate.append(subSurvivalRate);\n",
    "#print ('survival rate of %s out of %s' % (test2,test3))\n",
    "plt.plot(AgeReduced[0],SurvivalRate[0],'mo',AgeReduced[1],SurvivalRate[1],'bo');"
   ]
  },
  {
   "cell_type": "code",
   "execution_count": 191,
   "metadata": {
    "collapsed": false
   },
   "outputs": [
    {
     "data": {
      "text/plain": [
       "1    136\n",
       "0     68\n",
       "Name: Survived, dtype: int64"
      ]
     },
     "execution_count": 191,
     "metadata": {},
     "output_type": "execute_result"
    }
   ],
   "source": [
    "#I wonder if Cabin and Class are related:\n",
    "pd.value_counts(SA_train[SA_train['Cabin_Number']==1]['Survived'])"
   ]
  },
  {
   "cell_type": "code",
   "execution_count": 205,
   "metadata": {
    "collapsed": false
   },
   "outputs": [],
   "source": [
    "#Try to make this visualization a bit better for doing K-means grouping later\n",
    "#first, those that survived:\n",
    "SS=SA_train[SA_train['Survived']==1]['Fare']\n",
    "SC=SA_train[SA_train['Survived']==1]['Age_Complete']\n",
    "DS=SA_train[SA_train['Survived']==0]['Fare']\n",
    "DC=SA_train[SA_train['Survived']==0]['Age_Complete']"
   ]
  },
  {
   "cell_type": "code",
   "execution_count": 207,
   "metadata": {
    "collapsed": false
   },
   "outputs": [
    {
     "data": {
      "text/plain": [
       "[<matplotlib.lines.Line2D at 0x1f6c1bf37f0>,\n",
       " <matplotlib.lines.Line2D at 0x1f6c1bf3a58>]"
      ]
     },
     "execution_count": 207,
     "metadata": {},
     "output_type": "execute_result"
    },
    {
     "data": {
      "image/png": "[encoded data removed]",
      "text/plain": [
       "<matplotlib.figure.Figure at 0x1f6c1ba0dd8>"
      ]
     },
     "metadata": {},
     "output_type": "display_data"
    }
   ],
   "source": [
    "plt.plot(DS,DC,'bo',SS,SC,'ro')"
   ]
  },
  {
   "cell_type": "code",
   "execution_count": 245,
   "metadata": {
    "collapsed": true
   },
   "outputs": [],
   "source": [
    "SA_train['Sex_and_Class']=0;\n",
    "num=0;\n",
    "for x in range(0,len(SA_train['Sex_Number'].unique())):\n",
    "    for y in range(0,len(SA_train['Pclass'].unique())):\n",
    "        SA_train.ix[(SA_train['Sex_Number']==x)&(SA_train['Pclass']==y+1),'Sex_and_Class']=num\n",
    "        num=num+1"
   ]
  },
  {
   "cell_type": "code",
   "execution_count": 246,
   "metadata": {
    "collapsed": false
   },
   "outputs": [
    {
     "name": "stdout",
     "output_type": "stream",
     "text": [
      "0.968085106383\n",
      "0.921052631579\n",
      "0.5\n",
      "0.368852459016\n",
      "0.157407407407\n",
      "0.135446685879\n"
     ]
    }
   ],
   "source": [
    "for x in range(0,len(SA_train['Sex_and_Class'].unique())):\n",
    "    test=pd.value_counts(SA_train[SA_train['Sex_and_Class']==x]['Survived'])\n",
    "    try:\n",
    "        test2=1.*test[1]/(test[0]+test[1]);\n",
    "    except:\n",
    "        test2=1.;\n",
    "#        try:\n",
    "#            test3=test[0]+test[1];\n",
    "#        except:\n",
    "#            test3=test.values[0];\n",
    "    print (test2)"
   ]
  },
  {
   "cell_type": "code",
   "execution_count": 244,
   "metadata": {
    "collapsed": false
   },
   "outputs": [
    {
     "data": {
      "text/plain": [
       "array([3, 1, 2], dtype=int64)"
      ]
     },
     "execution_count": 244,
     "metadata": {},
     "output_type": "execute_result"
    }
   ],
   "source": [
    "SA_train['Pclass'].unique()"
   ]
  },
  {
   "cell_type": "code",
   "execution_count": null,
   "metadata": {
    "collapsed": true
   },
   "outputs": [],
   "source": []
  },
  {
   "cell_type": "code",
   "execution_count": null,
   "metadata": {
    "collapsed": true
   },
   "outputs": [],
   "source": []
  }
 ],
 "metadata": {
  "kernelspec": {
   "display_name": "Python 3",
   "language": "python",
   "name": "python3"
  },
  "language_info": {
   "codemirror_mode": {
    "name": "ipython",
    "version": 3
   },
   "file_extension": ".py",
   "mimetype": "text/x-python",
   "name": "python",
   "nbconvert_exporter": "python",
   "pygments_lexer": "ipython3",
   "version": "3.5.1"
  }
 },
 "nbformat": 4,
 "nbformat_minor": 0
}
