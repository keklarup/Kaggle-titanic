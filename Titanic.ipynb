{
 "cells": [
  {
   "cell_type": "code",
   "execution_count": 1,
   "metadata": {
    "collapsed": false
   },
   "outputs": [],
   "source": [
    "#I'm not sure I'll need all of these, but I tend to use them.\n",
    "#So I'll go ahead and import them now.\n",
    "%matplotlib inline\n",
    "import pandas as pd\n",
    "import numpy as np\n",
    "import pylab as P #I actually don't use pylab very much...\n",
    "from operator import itemgetter, attrgetter, methodcaller\n",
    "import matplotlib.pyplot as plt"
   ]
  },
  {
   "cell_type": "code",
   "execution_count": 5,
   "metadata": {
    "collapsed": false
   },
   "outputs": [
    {
     "name": "stdout",
     "output_type": "stream",
     "text": [
      " Volume in drive C has no label.\n",
      " Volume Serial Number is 7A48-729A\n",
      "\n",
      " Directory of C:\\Users\\KLK\\Kaggle Codes\\Titanic\n",
      "\n",
      "05/13/2016  02:07 PM    <DIR>          .\n",
      "05/13/2016  02:07 PM    <DIR>          ..\n",
      "05/13/2016  11:17 AM    <DIR>          .ipynb_checkpoints\n",
      "05/12/2016  03:20 PM            28,629 test.csv\n",
      "05/13/2016  02:07 PM            74,339 Titanic.ipynb\n",
      "05/12/2016  03:20 PM            61,194 train.csv\n",
      "               3 File(s)        164,162 bytes\n",
      "               3 Dir(s)  232,471,363,584 bytes free\n"
     ]
    }
   ],
   "source": [
    "ls"
   ]
  },
  {
   "cell_type": "code",
   "execution_count": 6,
   "metadata": {
    "collapsed": true
   },
   "outputs": [],
   "source": [
    "#Importing the training data into pandas, which makes nice spreadsheets and is good for mainpulation of rows/columns\n",
    "SA_train=pd.read_csv('train.csv', header=0)"
   ]
  },
  {
   "cell_type": "code",
   "execution_count": 7,
   "metadata": {
    "collapsed": false
   },
   "outputs": [
    {
     "data": {
      "text/plain": [
       "PassengerId      int64\n",
       "Survived         int64\n",
       "Pclass           int64\n",
       "Name            object\n",
       "Sex             object\n",
       "Age            float64\n",
       "SibSp            int64\n",
       "Parch            int64\n",
       "Ticket          object\n",
       "Fare           float64\n",
       "Cabin           object\n",
       "Embarked        object\n",
       "dtype: object"
      ]
     },
     "execution_count": 7,
     "metadata": {},
     "output_type": "execute_result"
    }
   ],
   "source": [
    "#Basic information about the columns in the panda object. Could also use SA_train.columns.values, but wouldn't get type info\n",
    "SA_train.dtypes"
   ]
  },
  {
   "cell_type": "code",
   "execution_count": 7,
   "metadata": {
    "collapsed": false
   },
   "outputs": [
    {
     "data": {
      "text/html": [
       "<div>\n",
       "<table border=\"1\" class=\"dataframe\">\n",
       "  <thead>\n",
       "    <tr style=\"text-align: right;\">\n",
       "      <th></th>\n",
       "      <th>PassengerId</th>\n",
       "      <th>Survived</th>\n",
       "      <th>Pclass</th>\n",
       "      <th>Age</th>\n",
       "      <th>SibSp</th>\n",
       "      <th>Parch</th>\n",
       "      <th>Fare</th>\n",
       "    </tr>\n",
       "  </thead>\n",
       "  <tbody>\n",
       "    <tr>\n",
       "      <th>count</th>\n",
       "      <td>891.000000</td>\n",
       "      <td>891.000000</td>\n",
       "      <td>891.000000</td>\n",
       "      <td>714.000000</td>\n",
       "      <td>891.000000</td>\n",
       "      <td>891.000000</td>\n",
       "      <td>891.000000</td>\n",
       "    </tr>\n",
       "    <tr>\n",
       "      <th>mean</th>\n",
       "      <td>446.000000</td>\n",
       "      <td>0.383838</td>\n",
       "      <td>2.308642</td>\n",
       "      <td>29.699118</td>\n",
       "      <td>0.523008</td>\n",
       "      <td>0.381594</td>\n",
       "      <td>32.204208</td>\n",
       "    </tr>\n",
       "    <tr>\n",
       "      <th>std</th>\n",
       "      <td>257.353842</td>\n",
       "      <td>0.486592</td>\n",
       "      <td>0.836071</td>\n",
       "      <td>14.526497</td>\n",
       "      <td>1.102743</td>\n",
       "      <td>0.806057</td>\n",
       "      <td>49.693429</td>\n",
       "    </tr>\n",
       "    <tr>\n",
       "      <th>min</th>\n",
       "      <td>1.000000</td>\n",
       "      <td>0.000000</td>\n",
       "      <td>1.000000</td>\n",
       "      <td>0.420000</td>\n",
       "      <td>0.000000</td>\n",
       "      <td>0.000000</td>\n",
       "      <td>0.000000</td>\n",
       "    </tr>\n",
       "    <tr>\n",
       "      <th>25%</th>\n",
       "      <td>223.500000</td>\n",
       "      <td>0.000000</td>\n",
       "      <td>2.000000</td>\n",
       "      <td>20.125000</td>\n",
       "      <td>0.000000</td>\n",
       "      <td>0.000000</td>\n",
       "      <td>7.910400</td>\n",
       "    </tr>\n",
       "    <tr>\n",
       "      <th>50%</th>\n",
       "      <td>446.000000</td>\n",
       "      <td>0.000000</td>\n",
       "      <td>3.000000</td>\n",
       "      <td>28.000000</td>\n",
       "      <td>0.000000</td>\n",
       "      <td>0.000000</td>\n",
       "      <td>14.454200</td>\n",
       "    </tr>\n",
       "    <tr>\n",
       "      <th>75%</th>\n",
       "      <td>668.500000</td>\n",
       "      <td>1.000000</td>\n",
       "      <td>3.000000</td>\n",
       "      <td>38.000000</td>\n",
       "      <td>1.000000</td>\n",
       "      <td>0.000000</td>\n",
       "      <td>31.000000</td>\n",
       "    </tr>\n",
       "    <tr>\n",
       "      <th>max</th>\n",
       "      <td>891.000000</td>\n",
       "      <td>1.000000</td>\n",
       "      <td>3.000000</td>\n",
       "      <td>80.000000</td>\n",
       "      <td>8.000000</td>\n",
       "      <td>6.000000</td>\n",
       "      <td>512.329200</td>\n",
       "    </tr>\n",
       "  </tbody>\n",
       "</table>\n",
       "</div>"
      ],
      "text/plain": [
       "       PassengerId    Survived      Pclass         Age       SibSp  \\\n",
       "count   891.000000  891.000000  891.000000  714.000000  891.000000   \n",
       "mean    446.000000    0.383838    2.308642   29.699118    0.523008   \n",
       "std     257.353842    0.486592    0.836071   14.526497    1.102743   \n",
       "min       1.000000    0.000000    1.000000    0.420000    0.000000   \n",
       "25%     223.500000    0.000000    2.000000   20.125000    0.000000   \n",
       "50%     446.000000    0.000000    3.000000   28.000000    0.000000   \n",
       "75%     668.500000    1.000000    3.000000   38.000000    1.000000   \n",
       "max     891.000000    1.000000    3.000000   80.000000    8.000000   \n",
       "\n",
       "            Parch        Fare  \n",
       "count  891.000000  891.000000  \n",
       "mean     0.381594   32.204208  \n",
       "std      0.806057   49.693429  \n",
       "min      0.000000    0.000000  \n",
       "25%      0.000000    7.910400  \n",
       "50%      0.000000   14.454200  \n",
       "75%      0.000000   31.000000  \n",
       "max      6.000000  512.329200  "
      ]
     },
     "execution_count": 7,
     "metadata": {},
     "output_type": "execute_result"
    }
   ],
   "source": [
    "SA_train.describe()"
   ]
  },
  {
   "cell_type": "code",
   "execution_count": 8,
   "metadata": {
    "collapsed": false
   },
   "outputs": [
    {
     "name": "stdout",
     "output_type": "stream",
     "text": [
      "<class 'pandas.core.frame.DataFrame'>\n",
      "RangeIndex: 891 entries, 0 to 890\n",
      "Data columns (total 12 columns):\n",
      "PassengerId    891 non-null int64\n",
      "Survived       891 non-null int64\n",
      "Pclass         891 non-null int64\n",
      "Name           891 non-null object\n",
      "Sex            891 non-null object\n",
      "Age            714 non-null float64\n",
      "SibSp          891 non-null int64\n",
      "Parch          891 non-null int64\n",
      "Ticket         891 non-null object\n",
      "Fare           891 non-null float64\n",
      "Cabin          204 non-null object\n",
      "Embarked       889 non-null object\n",
      "dtypes: float64(2), int64(5), object(5)\n",
      "memory usage: 83.6+ KB\n"
     ]
    }
   ],
   "source": [
    "SA_train.info()"
   ]
  },
  {
   "cell_type": "code",
   "execution_count": 9,
   "metadata": {
    "collapsed": true
   },
   "outputs": [],
   "source": [
    "#So, we see a couple categories missing ages, cabin, embarked, etc. \n",
    "#Let's first look at Age:"
   ]
  },
  {
   "cell_type": "code",
   "execution_count": 11,
   "metadata": {
    "collapsed": false
   },
   "outputs": [
    {
     "data": {
      "text/plain": [
       "<matplotlib.axes._subplots.AxesSubplot at 0x20a397528d0>"
      ]
     },
     "execution_count": 11,
     "metadata": {},
     "output_type": "execute_result"
    },
    {
     "data": {
      "image/png": "[encoded data removed]",
      "text/plain": [
       "<matplotlib.figure.Figure at 0x20a39729d30>"
      ]
     },
     "metadata": {},
     "output_type": "display_data"
    }
   ],
   "source": [
    "#My favorite way of calling a particular column. Could also do SA_train.Age, \n",
    "#But [] method is easier to expand to multiple columns and/or create new columns\n",
    "SA_train['Age'].hist()"
   ]
  },
  {
   "cell_type": "code",
   "execution_count": 8,
   "metadata": {
    "collapsed": false
   },
   "outputs": [
    {
     "data": {
      "text/plain": [
       "29.69911764705882"
      ]
     },
     "execution_count": 8,
     "metadata": {},
     "output_type": "execute_result"
    }
   ],
   "source": [
    "#What's the average age?\n",
    "SA_train['Age'].mean()"
   ]
  },
  {
   "cell_type": "code",
   "execution_count": 9,
   "metadata": {
    "collapsed": true
   },
   "outputs": [],
   "source": [
    "#Why don't we fill in the missing ages. But we don't want to corrupt original data, so first make new column\n",
    "SA_train['Age_Complete']=SA_train['Age'];\n",
    "SA_train['Age_Complete'].fillna(30,inplace = True);"
   ]
  },
  {
   "cell_type": "code",
   "execution_count": 19,
   "metadata": {
    "collapsed": false
   },
   "outputs": [],
   "source": [
    "#Un-comment below to check if it worked\n",
    "#SA_train.head(10)"
   ]
  },
  {
   "cell_type": "code",
   "execution_count": 10,
   "metadata": {
    "collapsed": false
   },
   "outputs": [
    {
     "data": {
      "text/plain": [
       "S    644\n",
       "C    168\n",
       "Q     77\n",
       "Name: Embarked, dtype: int64"
      ]
     },
     "execution_count": 10,
     "metadata": {},
     "output_type": "execute_result"
    }
   ],
   "source": [
    "#Similiar Problem with Embarked:\n",
    "pd.value_counts(SA_train['Embarked']) #A nice auto-count of unique terms in a column"
   ]
  },
  {
   "cell_type": "code",
   "execution_count": 11,
   "metadata": {
    "collapsed": true
   },
   "outputs": [],
   "source": [
    "#S is the most common, so let's make a new column and replace N/A with S:\n",
    "SA_train['Embarked_Complete']=SA_train['Embarked'];\n",
    "SA_train['Embarked_Complete'].fillna('S', inplace = True);"
   ]
  },
  {
   "cell_type": "code",
   "execution_count": 12,
   "metadata": {
    "collapsed": false
   },
   "outputs": [
    {
     "data": {
      "text/plain": [
       "S    646\n",
       "C    168\n",
       "Q     77\n",
       "Name: Embarked_Complete, dtype: int64"
      ]
     },
     "execution_count": 12,
     "metadata": {},
     "output_type": "execute_result"
    }
   ],
   "source": [
    "#Different way to check:\n",
    "pd.value_counts(SA_train['Embarked_Complete']) #A nice auto-count of unique terms in a column"
   ]
  },
  {
   "cell_type": "code",
   "execution_count": 13,
   "metadata": {
    "collapsed": false
   },
   "outputs": [],
   "source": [
    "#Finally, we have the Cabin column: (Un-comment to see)\n",
    "#pd.value_counts(SA_train['Cabin'])"
   ]
  },
  {
   "cell_type": "code",
   "execution_count": 14,
   "metadata": {
    "collapsed": false
   },
   "outputs": [],
   "source": [
    "#It looks pretty useless. If we look at outcomes cut by Cabin not being N/A:\n",
    "SA_train['Cabin?']=SA_train['Cabin'];\n",
    "SA_train['Cabin?'].fillna('No', inplace = True);"
   ]
  },
  {
   "cell_type": "code",
   "execution_count": 15,
   "metadata": {
    "collapsed": false
   },
   "outputs": [
    {
     "name": "stdout",
     "output_type": "stream",
     "text": [
      "0    481\n",
      "1    206\n",
      "Name: Survived, dtype: int64\n",
      "1    136\n",
      "0     68\n",
      "Name: Survived, dtype: int64\n"
     ]
    }
   ],
   "source": [
    "print( pd.value_counts(SA_train[SA_train['Cabin?']=='No']['Survived']))\n",
    "print( pd.value_counts(SA_train[SA_train['Cabin?']!='No']['Survived']))"
   ]
  },
  {
   "cell_type": "code",
   "execution_count": 36,
   "metadata": {
    "collapsed": true
   },
   "outputs": [],
   "source": [
    "#Oh look, turns out having an assigned cabin is very good towards one's health."
   ]
  },
  {
   "cell_type": "code",
   "execution_count": 16,
   "metadata": {
    "collapsed": false
   },
   "outputs": [
    {
     "data": {
      "text/plain": [
       "<matplotlib.axes._subplots.AxesSubplot at 0x1fb7b726ac8>"
      ]
     },
     "execution_count": 16,
     "metadata": {},
     "output_type": "execute_result"
    },
    {
     "data": {
      "image/png": "[encoded data removed]",
      "text/plain": [
       "<matplotlib.figure.Figure at 0x1fb7b726470>"
      ]
     },
     "metadata": {},
     "output_type": "display_data"
    }
   ],
   "source": [
    "#I'll keep making new columns to cut my data into features. Next up, Fare\n",
    "SA_train['Fare'].hist(bins=30, range=(0,100), alpha = .5) #There are fares >$100, but few."
   ]
  },
  {
   "cell_type": "code",
   "execution_count": 17,
   "metadata": {
    "collapsed": false
   },
   "outputs": [
    {
     "name": "stdout",
     "output_type": "stream",
     "text": [
      "48.39540760233917\n",
      "22.117886885245877\n"
     ]
    }
   ],
   "source": [
    "#We can also see that the average fare of those that survived is higher than those that did not:\n",
    "print (SA_train[SA_train['Survived']==1]['Fare'].mean())\n",
    "print (SA_train[SA_train['Survived']==0]['Fare'].mean())"
   ]
  },
  {
   "cell_type": "code",
   "execution_count": null,
   "metadata": {
    "collapsed": true
   },
   "outputs": [],
   "source": [
    "#But how should we bin the fares together? Right now there are so many, we would overfit our data.\n",
    "#Let's take a look at the survival rate of groups of fares, binned into some smallish grouping (say $5)"
   ]
  },
  {
   "cell_type": "code",
   "execution_count": 18,
   "metadata": {
    "collapsed": false
   },
   "outputs": [
    {
     "data": {
      "text/plain": [
       "[<matplotlib.lines.Line2D at 0x1fb7bc69b38>]"
      ]
     },
     "execution_count": 18,
     "metadata": {},
     "output_type": "execute_result"
    },
    {
     "data": {
      "image/png": "[encoded data removed]",
      "text/plain": [
       "<matplotlib.figure.Figure at 0x1fb7b726550>"
      ]
     },
     "metadata": {},
     "output_type": "display_data"
    }
   ],
   "source": [
    "survival_rate=[];\n",
    "dollar_bins=[];\n",
    "n=5;\n",
    "for xx in range(0,20):\n",
    "    y=0;\n",
    "    z=0;\n",
    "    for x in range(0,len(SA_train)):\n",
    "        if SA_train['Fare'][x]>=n*xx and SA_train['Fare'][x]<n*(xx+1):\n",
    "            if SA_train['Survived'][x]==1:\n",
    "                y=y+1\n",
    "            z=z+1\n",
    "    try:\n",
    "        survival_rate.append(y/z);\n",
    "        dollar_bins.append(n*xx);\n",
    "    except:\n",
    "        pass\n",
    "plt.plot(dollar_bins,survival_rate,'ro')"
   ]
  },
  {
   "cell_type": "code",
   "execution_count": 19,
   "metadata": {
    "collapsed": false
   },
   "outputs": [
    {
     "data": {
      "text/plain": [
       "0.19940476190476192"
      ]
     },
     "execution_count": 19,
     "metadata": {},
     "output_type": "execute_result"
    }
   ],
   "source": [
    "#So, it looks like we could divide by 10 and 50 if we liked:\n",
    "test=pd.value_counts(SA_train[SA_train['Fare']<10]['Survived'])\n",
    "test[1]/(test[0]+test[1])"
   ]
  },
  {
   "cell_type": "code",
   "execution_count": 20,
   "metadata": {
    "collapsed": false
   },
   "outputs": [
    {
     "data": {
      "text/plain": [
       "0.42131979695431471"
      ]
     },
     "execution_count": 20,
     "metadata": {},
     "output_type": "execute_result"
    }
   ],
   "source": [
    "test=pd.value_counts(SA_train[(SA_train['Fare'] >= 10) & (SA_train['Fare'] < 50)]['Survived'])\n",
    "test[1]/(test[0]+test[1])"
   ]
  },
  {
   "cell_type": "code",
   "execution_count": 21,
   "metadata": {
    "collapsed": false
   },
   "outputs": [
    {
     "data": {
      "text/plain": [
       "0.67701863354037262"
      ]
     },
     "execution_count": 21,
     "metadata": {},
     "output_type": "execute_result"
    }
   ],
   "source": [
    "test=pd.value_counts(SA_train[(SA_train['Fare'] >= 50)]['Survived'])\n",
    "test[1]/(test[0]+test[1])"
   ]
  },
  {
   "cell_type": "code",
   "execution_count": 22,
   "metadata": {
    "collapsed": false
   },
   "outputs": [
    {
     "data": {
      "text/plain": [
       "array(['PassengerId', 'Survived', 'Pclass', 'Name', 'Sex', 'Age', 'SibSp',\n",
       "       'Parch', 'Ticket', 'Fare', 'Cabin', 'Embarked', 'Age_Complete',\n",
       "       'Embarked_Complete', 'Cabin?'], dtype=object)"
      ]
     },
     "execution_count": 22,
     "metadata": {},
     "output_type": "execute_result"
    }
   ],
   "source": [
    "SA_train.columns.values"
   ]
  },
  {
   "cell_type": "code",
   "execution_count": 26,
   "metadata": {
    "collapsed": false
   },
   "outputs": [],
   "source": [
    "SA_train['Fare_Reduced']=2;\n",
    "for x in range(0,len(SA_train)):\n",
    "    if SA_train.loc[x,'Fare']<10:\n",
    "        SA_train.loc[x,'Fare_Reduced']=0;\n",
    "    elif SA_train.loc[x,'Fare']<50:\n",
    "        SA_train.loc[x,'Fare_Reduced']=1"
   ]
  },
  {
   "cell_type": "code",
   "execution_count": 27,
   "metadata": {
    "collapsed": false
   },
   "outputs": [
    {
     "data": {
      "text/plain": [
       "1    394\n",
       "0    336\n",
       "2    161\n",
       "Name: Fare_Reduced, dtype: int64"
      ]
     },
     "execution_count": 27,
     "metadata": {},
     "output_type": "execute_result"
    }
   ],
   "source": [
    "pd.value_counts(SA_train['Fare_Reduced'])"
   ]
  },
  {
   "cell_type": "code",
   "execution_count": 29,
   "metadata": {
    "collapsed": false
   },
   "outputs": [
    {
     "data": {
      "text/plain": [
       "[<matplotlib.lines.Line2D at 0x1fb7bcdf7f0>]"
      ]
     },
     "execution_count": 29,
     "metadata": {},
     "output_type": "execute_result"
    },
    {
     "data": {
      "image/png": "[encoded data removed]",
      "text/plain": [
       "<matplotlib.figure.Figure at 0x1fb7bc9a9e8>"
      ]
     },
     "metadata": {},
     "output_type": "display_data"
    }
   ],
   "source": [
    "#We need to reduce the ages too:\n",
    "survival_rate=[];\n",
    "age_bins=[];\n",
    "n=5;\n",
    "for xx in range(0,20):\n",
    "    y=0;\n",
    "    z=0;\n",
    "    for x in range(0,len(SA_train)):\n",
    "        if SA_train.loc[x,'Age_Complete']>=n*xx and SA_train.loc[x,'Age_Complete']<n*(xx+1):\n",
    "            if SA_train.loc[x,'Survived']==1:\n",
    "                y=y+1\n",
    "            z=z+1\n",
    "    try:\n",
    "        survival_rate.append(y/z);\n",
    "        age_bins.append(n*xx);\n",
    "    except:\n",
    "        pass\n",
    "plt.plot(age_bins,survival_rate,'ro')"
   ]
  },
  {
   "cell_type": "code",
   "execution_count": 69,
   "metadata": {
    "collapsed": false
   },
   "outputs": [
    {
     "data": {
      "text/plain": [
       "0.8571428571428571"
      ]
     },
     "execution_count": 69,
     "metadata": {},
     "output_type": "execute_result"
    }
   ],
   "source": [
    "#Suggests 0, 20, 60 as cut offs\n",
    "test=pd.value_counts(SA_train[(SA_train['Age_Complete'] < 2)]['Survived'])\n",
    "test[1]/(test[0]+test[1])"
   ]
  },
  {
   "cell_type": "code",
   "execution_count": 74,
   "metadata": {
    "collapsed": false
   },
   "outputs": [
    {
     "data": {
      "text/plain": [
       "0.57692307692307687"
      ]
     },
     "execution_count": 74,
     "metadata": {},
     "output_type": "execute_result"
    }
   ],
   "source": [
    "test=pd.value_counts(SA_train[(SA_train['Age_Complete'] >= 2) & (SA_train['Age_Complete'] < 5)]['Survived'])\n",
    "test[1]/(test[0]+test[1])"
   ]
  },
  {
   "cell_type": "code",
   "execution_count": 77,
   "metadata": {
    "collapsed": false
   },
   "outputs": [
    {
     "data": {
      "text/plain": [
       "0.46575342465753422"
      ]
     },
     "execution_count": 77,
     "metadata": {},
     "output_type": "execute_result"
    }
   ],
   "source": [
    "test=pd.value_counts(SA_train[(SA_train['Age_Complete'] >= 5) & (SA_train['Age_Complete'] < 18)]['Survived'])\n",
    "test[1]/(test[0]+test[1])"
   ]
  },
  {
   "cell_type": "code",
   "execution_count": 62,
   "metadata": {
    "collapsed": false
   },
   "outputs": [
    {
     "data": {
      "text/plain": [
       "0.36436170212765956"
      ]
     },
     "execution_count": 62,
     "metadata": {},
     "output_type": "execute_result"
    }
   ],
   "source": [
    "test=pd.value_counts(SA_train[(SA_train['Age_Complete'] >= 18) & (SA_train['Age_Complete'] < 60)]['Survived'])\n",
    "test[1]/(test[0]+test[1])"
   ]
  },
  {
   "cell_type": "code",
   "execution_count": 64,
   "metadata": {
    "collapsed": false
   },
   "outputs": [
    {
     "data": {
      "text/plain": [
       "0.26923076923076922"
      ]
     },
     "execution_count": 64,
     "metadata": {},
     "output_type": "execute_result"
    }
   ],
   "source": [
    "#Suggests 0, 20, 60 as cut offs\n",
    "test=pd.value_counts(SA_train[(SA_train['Age_Complete'] >= 60)]['Survived'])\n",
    "test[1]/(test[0]+test[1])"
   ]
  },
  {
   "cell_type": "code",
   "execution_count": 78,
   "metadata": {
    "collapsed": true
   },
   "outputs": [],
   "source": [
    "SA_train['Age_Reduced']=4;\n",
    "for x in range(0,len(SA_train)):\n",
    "    if SA_train.loc[x,'Age_Complete']<2:\n",
    "        SA_train.loc[x,'Age_Reduced']=0;\n",
    "    elif SA_train.loc[x,'Age_Complete']<5:\n",
    "        SA_train.loc[x,'Age_Reduced']=1;\n",
    "    elif SA_train.loc[x,'Age_Complete']<18:\n",
    "        SA_train.loc[x,'Age_Reduced']=2;\n",
    "    elif SA_train.loc[x,'Age_Complete']<60:\n",
    "        SA_train.loc[x,'Age_Reduced']=3;"
   ]
  },
  {
   "cell_type": "code",
   "execution_count": 81,
   "metadata": {
    "collapsed": false
   },
   "outputs": [],
   "source": [
    "#Now we make everything a number, starting with sex\n",
    "# let women =0 and men=1\n",
    "SA_train['Sex_Number']=SA_train['Sex'].map({'female':0, 'male':1}).astype(int)"
   ]
  },
  {
   "cell_type": "code",
   "execution_count": 83,
   "metadata": {
    "collapsed": true
   },
   "outputs": [],
   "source": [
    "#And Embarked location:\n",
    "# let S =0, C=1, and Q=2\n",
    "SA_train['Embarked_Number']=SA_train['Embarked_Complete'].map({'S':0, 'C':1,'Q':2}).astype(int)"
   ]
  },
  {
   "cell_type": "code",
   "execution_count": 85,
   "metadata": {
    "collapsed": true
   },
   "outputs": [],
   "source": [
    "#Finally, a different, slower loop for Cabin?:\n",
    "SA_train['Cabin_Number']=1;\n",
    "for x in range(0,len(SA_train)):\n",
    "    if SA_train.loc[x,'Cabin?']=='No':\n",
    "        SA_train.loc[x,'Cabin_Number']=0;"
   ]
  },
  {
   "cell_type": "code",
   "execution_count": 88,
   "metadata": {
    "collapsed": false
   },
   "outputs": [
    {
     "data": {
      "text/html": [
       "<div>\n",
       "<table border=\"1\" class=\"dataframe\">\n",
       "  <thead>\n",
       "    <tr style=\"text-align: right;\">\n",
       "      <th></th>\n",
       "      <th>Survived</th>\n",
       "      <th>Pclass</th>\n",
       "      <th>Sex_Number</th>\n",
       "      <th>Fare_Reduced</th>\n",
       "      <th>Age_Reduced</th>\n",
       "      <th>Embarked_Number</th>\n",
       "      <th>Cabin_Number</th>\n",
       "    </tr>\n",
       "  </thead>\n",
       "  <tbody>\n",
       "    <tr>\n",
       "      <th>0</th>\n",
       "      <td>0</td>\n",
       "      <td>3</td>\n",
       "      <td>1</td>\n",
       "      <td>0</td>\n",
       "      <td>3</td>\n",
       "      <td>0</td>\n",
       "      <td>0</td>\n",
       "    </tr>\n",
       "    <tr>\n",
       "      <th>1</th>\n",
       "      <td>1</td>\n",
       "      <td>1</td>\n",
       "      <td>0</td>\n",
       "      <td>2</td>\n",
       "      <td>3</td>\n",
       "      <td>1</td>\n",
       "      <td>1</td>\n",
       "    </tr>\n",
       "    <tr>\n",
       "      <th>2</th>\n",
       "      <td>1</td>\n",
       "      <td>3</td>\n",
       "      <td>0</td>\n",
       "      <td>0</td>\n",
       "      <td>3</td>\n",
       "      <td>0</td>\n",
       "      <td>0</td>\n",
       "    </tr>\n",
       "    <tr>\n",
       "      <th>3</th>\n",
       "      <td>1</td>\n",
       "      <td>1</td>\n",
       "      <td>0</td>\n",
       "      <td>2</td>\n",
       "      <td>3</td>\n",
       "      <td>0</td>\n",
       "      <td>1</td>\n",
       "    </tr>\n",
       "    <tr>\n",
       "      <th>4</th>\n",
       "      <td>0</td>\n",
       "      <td>3</td>\n",
       "      <td>1</td>\n",
       "      <td>0</td>\n",
       "      <td>3</td>\n",
       "      <td>0</td>\n",
       "      <td>0</td>\n",
       "    </tr>\n",
       "  </tbody>\n",
       "</table>\n",
       "</div>"
      ],
      "text/plain": [
       "   Survived  Pclass  Sex_Number  Fare_Reduced  Age_Reduced  Embarked_Number  \\\n",
       "0         0       3           1             0            3                0   \n",
       "1         1       1           0             2            3                1   \n",
       "2         1       3           0             0            3                0   \n",
       "3         1       1           0             2            3                0   \n",
       "4         0       3           1             0            3                0   \n",
       "\n",
       "   Cabin_Number  \n",
       "0             0  \n",
       "1             1  \n",
       "2             0  \n",
       "3             1  \n",
       "4             0  "
      ]
     },
     "execution_count": 88,
     "metadata": {},
     "output_type": "execute_result"
    }
   ],
   "source": [
    "SA_train[['Survived','Pclass','Sex_Number','Fare_Reduced','Age_Reduced','Embarked_Number','Cabin_Number']].head()"
   ]
  },
  {
   "cell_type": "code",
   "execution_count": 89,
   "metadata": {
    "collapsed": true
   },
   "outputs": [],
   "source": [
    "SA_trainReduced=SA_train[['Survived','Pclass','Sex_Number','Fare_Reduced','Age_Reduced','Embarked_Number','Cabin_Number']]"
   ]
  },
  {
   "cell_type": "code",
   "execution_count": 91,
   "metadata": {
    "collapsed": false
   },
   "outputs": [],
   "source": [
    "#Think we're done?\n",
    "#NOPE\n",
    "#Still need to repeat it all for the test set:\n",
    "SA_test=pd.read_csv('test.csv', header=0)"
   ]
  },
  {
   "cell_type": "code",
   "execution_count": 93,
   "metadata": {
    "collapsed": false
   },
   "outputs": [
    {
     "name": "stdout",
     "output_type": "stream",
     "text": [
      "<class 'pandas.core.frame.DataFrame'>\n",
      "RangeIndex: 418 entries, 0 to 417\n",
      "Data columns (total 11 columns):\n",
      "PassengerId    418 non-null int64\n",
      "Pclass         418 non-null int64\n",
      "Name           418 non-null object\n",
      "Sex            418 non-null object\n",
      "Age            332 non-null float64\n",
      "SibSp          418 non-null int64\n",
      "Parch          418 non-null int64\n",
      "Ticket         418 non-null object\n",
      "Fare           417 non-null float64\n",
      "Cabin          91 non-null object\n",
      "Embarked       418 non-null object\n",
      "dtypes: float64(2), int64(4), object(5)\n",
      "memory usage: 36.0+ KB\n"
     ]
    }
   ],
   "source": [
    "#Added problem of the missing fare in the test set:\n",
    "SA_test.info()"
   ]
  },
  {
   "cell_type": "code",
   "execution_count": 94,
   "metadata": {
    "collapsed": true
   },
   "outputs": [],
   "source": [
    "SA_test['Age_Complete']=SA_test['Age'];\n",
    "SA_test['Age_Complete'].fillna(30,inplace = True);"
   ]
  },
  {
   "cell_type": "code",
   "execution_count": 95,
   "metadata": {
    "collapsed": true
   },
   "outputs": [],
   "source": [
    "SA_test['Embarked_Complete']=SA_test['Embarked'];\n",
    "SA_test['Embarked_Complete'].fillna('S', inplace = True);"
   ]
  },
  {
   "cell_type": "code",
   "execution_count": 96,
   "metadata": {
    "collapsed": true
   },
   "outputs": [],
   "source": [
    "SA_test['Cabin?']=SA_test['Cabin'];\n",
    "SA_test['Cabin?'].fillna('No', inplace = True);"
   ]
  },
  {
   "cell_type": "code",
   "execution_count": 98,
   "metadata": {
    "collapsed": false
   },
   "outputs": [],
   "source": [
    "SA_test['Fare'].fillna(SA_train['Fare'].mean(),inplace=True);"
   ]
  },
  {
   "cell_type": "code",
   "execution_count": 100,
   "metadata": {
    "collapsed": true
   },
   "outputs": [],
   "source": [
    "SA_test['Fare_Reduced']=2;\n",
    "for x in range(0,len(SA_test)):\n",
    "    if SA_test.loc[x,'Fare']<10:\n",
    "        SA_test.loc[x,'Fare_Reduced']=0;\n",
    "    elif SA_test.loc[x,'Fare']<50:\n",
    "        SA_test.loc[x,'Fare_Reduced']=1"
   ]
  },
  {
   "cell_type": "code",
   "execution_count": 101,
   "metadata": {
    "collapsed": true
   },
   "outputs": [],
   "source": [
    "SA_test['Age_Reduced']=4;\n",
    "for x in range(0,len(SA_test)):\n",
    "    if SA_test.loc[x,'Age_Complete']<2:\n",
    "        SA_test.loc[x,'Age_Reduced']=0;\n",
    "    elif SA_test.loc[x,'Age_Complete']<5:\n",
    "        SA_test.loc[x,'Age_Reduced']=1;\n",
    "    elif SA_test.loc[x,'Age_Complete']<18:\n",
    "        SA_test.loc[x,'Age_Reduced']=2;\n",
    "    elif SA_test.loc[x,'Age_Complete']<60:\n",
    "        SA_test.loc[x,'Age_Reduced']=3;"
   ]
  },
  {
   "cell_type": "code",
   "execution_count": 102,
   "metadata": {
    "collapsed": true
   },
   "outputs": [],
   "source": [
    "SA_test['Sex_Number']=SA_test['Sex'].map({'female':0, 'male':1}).astype(int)\n",
    "SA_test['Embarked_Number']=SA_test['Embarked_Complete'].map({'S':0, 'C':1,'Q':2}).astype(int)\n",
    "#Finally, a different, slower loop for Cabin?:\n",
    "SA_test['Cabin_Number']=1;\n",
    "for x in range(0,len(SA_test)):\n",
    "    if SA_test.loc[x,'Cabin?']=='No':\n",
    "        SA_test.loc[x,'Cabin_Number']=0;"
   ]
  },
  {
   "cell_type": "code",
   "execution_count": 107,
   "metadata": {
    "collapsed": false
   },
   "outputs": [],
   "source": [
    "SA_testReduced=SA_test[['Pclass','Sex_Number','Fare_Reduced','Age_Reduced','Embarked_Number','Cabin_Number']]"
   ]
  },
  {
   "cell_type": "code",
   "execution_count": 108,
   "metadata": {
    "collapsed": false
   },
   "outputs": [],
   "source": [
    "train_data=SA_trainReduced.values"
   ]
  },
  {
   "cell_type": "code",
   "execution_count": 110,
   "metadata": {
    "collapsed": false
   },
   "outputs": [],
   "source": [
    "from sklearn.ensemble import RandomForestClassifier"
   ]
  },
  {
   "cell_type": "code",
   "execution_count": 111,
   "metadata": {
    "collapsed": true
   },
   "outputs": [],
   "source": [
    "forest=RandomForestClassifier(n_estimators=100)\n",
    "forest=forest.fit(train_data[0::,1::],train_data[0::,0])\n",
    "output=forest.predict(train_data[0::,1::])"
   ]
  },
  {
   "cell_type": "code",
   "execution_count": 115,
   "metadata": {
    "collapsed": false
   },
   "outputs": [
    {
     "name": "stdout",
     "output_type": "stream",
     "text": [
      "[0 1 0 1 0 0 0 0 0 1]\n",
      "[0 1 1 1 0 0 0 0 1 1]\n"
     ]
    }
   ],
   "source": [
    "print (output[0:10])\n",
    "print (train_data[0:10,0])"
   ]
  },
  {
   "cell_type": "code",
   "execution_count": 122,
   "metadata": {
    "collapsed": false
   },
   "outputs": [
    {
     "name": "stdout",
     "output_type": "stream",
     "text": [
      "0.8361391694725028\n"
     ]
    }
   ],
   "source": [
    "y=0\n",
    "for x in range(0,len(output)):\n",
    "    if output[x]==train_data[x,0]:\n",
    "        y=y+1\n",
    "print (1.*y/len(output))"
   ]
  },
  {
   "cell_type": "code",
   "execution_count": 131,
   "metadata": {
    "collapsed": false
   },
   "outputs": [],
   "source": [
    "features=['Pclass', 'Sex_Number', 'Fare_Reduced', 'Age_Reduced',\n",
    "       'Embarked_Number', 'Cabin_Number'];"
   ]
  },
  {
   "cell_type": "code",
   "execution_count": 132,
   "metadata": {
    "collapsed": false
   },
   "outputs": [
    {
     "data": {
      "image/png": "[encoded data removed]",
      "text/plain": [
       "<matplotlib.figure.Figure at 0x1fb7d9facc0>"
      ]
     },
     "metadata": {},
     "output_type": "display_data"
    }
   ],
   "source": [
    "horizontal=[]\n",
    "for x in range(0,len(features)):\n",
    "    horizontal.append(x);\n",
    "importance=forest.feature_importances_;\n",
    "\n",
    "plt.figure(1)\n",
    "h = plt.bar(horizontal, importance, label=features);\n",
    "plt.subplots_adjust(bottom=0.3);\n",
    "xticks_pos = [0.65*patch.get_width() + patch.get_xy()[0] for patch in h];\n",
    "plt.xticks(xticks_pos, features,  ha='right', rotation=45);"
   ]
  },
  {
   "cell_type": "code",
   "execution_count": 125,
   "metadata": {
    "collapsed": false
   },
   "outputs": [],
   "source": [
    "test_data=SA_testReduced.values"
   ]
  },
  {
   "cell_type": "code",
   "execution_count": 126,
   "metadata": {
    "collapsed": false
   },
   "outputs": [],
   "source": [
    "titanic_predictions=forest.predict(test_data)"
   ]
  },
  {
   "cell_type": "code",
   "execution_count": 136,
   "metadata": {
    "collapsed": false
   },
   "outputs": [],
   "source": [
    "IDs=SA_test['PassengerId']"
   ]
  },
  {
   "cell_type": "code",
   "execution_count": 137,
   "metadata": {
    "collapsed": true
   },
   "outputs": [],
   "source": [
    "Titanic=np.c_[IDs,titanic_predictions]"
   ]
  },
  {
   "cell_type": "code",
   "execution_count": 139,
   "metadata": {
    "collapsed": false
   },
   "outputs": [],
   "source": [
    "np.savetxt(\"titanic_predictions.csv\", Titanic, delimiter=\",\")\n",
    "#Success rate: .75"
   ]
  },
  {
   "cell_type": "code",
   "execution_count": 140,
   "metadata": {
    "collapsed": true
   },
   "outputs": [],
   "source": [
    "#We can also now move onto other ways to predict. Let's try logistic regression:"
   ]
  },
  {
   "cell_type": "code",
   "execution_count": 322,
   "metadata": {
    "collapsed": false
   },
   "outputs": [],
   "source": [
    "#To do that, first we need to change out inputs into long vectors:\n",
    "Ypart=train_data[:,0]\n",
    "Xpart=train_data[:,1:]"
   ]
  },
  {
   "cell_type": "code",
   "execution_count": 144,
   "metadata": {
    "collapsed": false
   },
   "outputs": [
    {
     "data": {
      "text/plain": [
       "array([[3, 1, 3, ..., 3, 1, 3],\n",
       "       [1, 0, 0, ..., 0, 1, 1],\n",
       "       [0, 2, 0, ..., 1, 1, 0],\n",
       "       [3, 3, 3, ..., 3, 3, 3],\n",
       "       [0, 1, 0, ..., 0, 1, 2],\n",
       "       [0, 1, 0, ..., 0, 1, 0]], dtype=int64)"
      ]
     },
     "execution_count": 144,
     "metadata": {},
     "output_type": "execute_result"
    }
   ],
   "source": [
    "np.transpose(Xpart)"
   ]
  },
  {
   "cell_type": "code",
   "execution_count": 162,
   "metadata": {
    "collapsed": false
   },
   "outputs": [],
   "source": [
    "Features=SA_trainReduced.iloc[:,1:].columns.values"
   ]
  },
  {
   "cell_type": "code",
   "execution_count": 167,
   "metadata": {
    "collapsed": false
   },
   "outputs": [
    {
     "name": "stdout",
     "output_type": "stream",
     "text": [
      "18\n"
     ]
    }
   ],
   "source": [
    "#First we find out how large of a vector each passanager will be:\n",
    "y=0;\n",
    "for x in range(0,len(Features)):\n",
    "    y=y+len(SA_trainReduced[Features[x]].unique())\n",
    "print (y)"
   ]
  },
  {
   "cell_type": "code",
   "execution_count": 274,
   "metadata": {
    "collapsed": false
   },
   "outputs": [
    {
     "data": {
      "text/plain": [
       "891"
      ]
     },
     "execution_count": 274,
     "metadata": {},
     "output_type": "execute_result"
    }
   ],
   "source": [
    "len(Xvector)"
   ]
  },
  {
   "cell_type": "code",
   "execution_count": 313,
   "metadata": {
    "collapsed": false
   },
   "outputs": [],
   "source": [
    "#Now make an array for each feature\n",
    "Xs=[];\n",
    "for z in range(0,len(Features)):\n",
    "    Xvector=np.zeros((len(SA_trainReduced),len(SA_trainReduced[Features[z]].unique())))\n",
    "    #print(   Xvector[0]  )\n",
    "    subFeatures=np.sort(SA_trainReduced[Features[z]].unique())\n",
    "    #print( subFeatures)\n",
    "    subFeatureDic={};\n",
    "    for x in range(0,len(subFeatures)):\n",
    "        subFeatureDic[subFeatures[x]]=[x]\n",
    "    #print ( subFeatureDic)\n",
    "    y=0;\n",
    "    for xx in range(0,len(Xvector)):\n",
    "        Xvector[xx,subFeatureDic[SA_trainReduced[Features[z]][xx]][0]]=1\n",
    "    #print (Xvector[0:5])\n",
    "    Xs.append(Xvector)"
   ]
  },
  {
   "cell_type": "code",
   "execution_count": 321,
   "metadata": {
    "collapsed": false
   },
   "outputs": [],
   "source": [
    "FeatureVectors=Xs[0];\n",
    "for x in range(1,len(Features)):\n",
    "    FeatureVectors=np.c_[FeatureVectors,Xs[x]]"
   ]
  },
  {
   "cell_type": "code",
   "execution_count": 327,
   "metadata": {
    "collapsed": true
   },
   "outputs": [],
   "source": [
    "Y=np.zeros((len(SA_train),2))"
   ]
  },
  {
   "cell_type": "code",
   "execution_count": 329,
   "metadata": {
    "collapsed": false
   },
   "outputs": [],
   "source": [
    "for x in range(0,len(Y)):\n",
    "    Y[x,Ypart[x]]=1"
   ]
  },
  {
   "cell_type": "code",
   "execution_count": 330,
   "metadata": {
    "collapsed": false
   },
   "outputs": [
    {
     "data": {
      "text/plain": [
       "array([[ 1.,  0.],\n",
       "       [ 0.,  1.],\n",
       "       [ 0.,  1.],\n",
       "       ..., \n",
       "       [ 1.,  0.],\n",
       "       [ 0.,  1.],\n",
       "       [ 1.,  0.]])"
      ]
     },
     "execution_count": 330,
     "metadata": {},
     "output_type": "execute_result"
    }
   ],
   "source": [
    "Y"
   ]
  },
  {
   "cell_type": "code",
   "execution_count": 360,
   "metadata": {
    "collapsed": false
   },
   "outputs": [
    {
     "data": {
      "text/plain": [
       "[<matplotlib.lines.Line2D at 0x1fb7ee23cf8>]"
      ]
     },
     "execution_count": 360,
     "metadata": {},
     "output_type": "execute_result"
    },
    {
     "data": {
      "image/png": "[encoded data removed]",
      "text/plain": [
       "<matplotlib.figure.Figure at 0x1fb7ee08080>"
      ]
     },
     "metadata": {},
     "output_type": "display_data"
    }
   ],
   "source": [
    "Xtest=FeatureVectors;\n",
    "Ytest=Y;\n",
    "Costfunctions=[];\n",
    "Thetatest=np.asmatrix(np.random.rand(Xtest[0].size,Ytest[0].size)/100.)\n",
    "m=len(Xtest);\n",
    "#m=10;\n",
    "for k in range(0,3000):\n",
    "    z2=Xtest[0:m]*Thetatest\n",
    "    a2=1./(1.+np.exp(-z2));\n",
    "    J=-1./m*(np.sum(np.multiply(Ytest[0:m],np.log(a2))+np.multiply(1-Ytest[0:m],np.log(1-a2))))\n",
    "    alpha=.1;\n",
    "    Thetatest=Thetatest-alpha/m*(((a2-Ytest[0:m]).transpose()*Xtest[0:m]).transpose())\n",
    "    Costfunctions.append(J);\n",
    "    try:\n",
    "        if (Costfunctions[-2]-Costfunctions[-1])<.00005:\n",
    "            break\n",
    "    except:\n",
    "        pass\n",
    "plt.plot(Costfunctions)\n",
    "    #z2cv=Xcv[0:mcv]*Thetatest\n",
    "    #a2cv=1./(1.+np.exp(-z2cv));\n",
    "    #Jcv=-1./mcv*(np.sum(np.multiply(Ycv[0:mcv],np.log(a2cv))+np.multiply(1-Ycv[0:mcv],np.log(1-a2cv))))\n",
    "    #PredictedScoreT=-1./m*(np.sum(np.multiply(Ytest[0:m],np.log(a2))));\n",
    "    #PredictedScoreCV=-1./mcv*(np.sum(np.multiply(Ycv[0:mcv],np.log(a2cv))));\n",
    "    #return Thetatest,a2, Costfunctions, a2cv, Jcv,PredictedScoreT,PredictedScoreCV"
   ]
  },
  {
   "cell_type": "code",
   "execution_count": 363,
   "metadata": {
    "collapsed": false
   },
   "outputs": [],
   "source": [
    "test=1./(1.+np.exp(-FeatureVectors*Thetatest))"
   ]
  },
  {
   "cell_type": "code",
   "execution_count": 367,
   "metadata": {
    "collapsed": false
   },
   "outputs": [
    {
     "data": {
      "text/plain": [
       "0.91224228419554887"
      ]
     },
     "execution_count": 367,
     "metadata": {},
     "output_type": "execute_result"
    }
   ],
   "source": [
    "test[0].max()"
   ]
  },
  {
   "cell_type": "code",
   "execution_count": 368,
   "metadata": {
    "collapsed": true
   },
   "outputs": [],
   "source": [
    "test=a2==np.max(a2,axis=1);\n",
    "test2=test.astype(int);"
   ]
  },
  {
   "cell_type": "code",
   "execution_count": 369,
   "metadata": {
    "collapsed": false
   },
   "outputs": [
    {
     "data": {
      "text/plain": [
       "matrix([[1, 0],\n",
       "        [0, 1],\n",
       "        [1, 0],\n",
       "        ..., \n",
       "        [0, 1],\n",
       "        [1, 0],\n",
       "        [1, 0]])"
      ]
     },
     "execution_count": 369,
     "metadata": {},
     "output_type": "execute_result"
    }
   ],
   "source": [
    "test2"
   ]
  },
  {
   "cell_type": "code",
   "execution_count": 374,
   "metadata": {
    "collapsed": false
   },
   "outputs": [],
   "source": [
    "solutions=np.zeros((len(test),1))"
   ]
  },
  {
   "cell_type": "code",
   "execution_count": 379,
   "metadata": {
    "collapsed": false
   },
   "outputs": [],
   "source": [
    "for x in range(0,len(test2)):\n",
    "    if test2[x,1]==1:\n",
    "        solutions[x]=1"
   ]
  },
  {
   "cell_type": "code",
   "execution_count": 381,
   "metadata": {
    "collapsed": false
   },
   "outputs": [],
   "source": [
    "LogisticPredictions=solutions"
   ]
  },
  {
   "cell_type": "code",
   "execution_count": 382,
   "metadata": {
    "collapsed": false
   },
   "outputs": [
    {
     "data": {
      "text/plain": [
       "array([ 0.])"
      ]
     },
     "execution_count": 382,
     "metadata": {},
     "output_type": "execute_result"
    }
   ],
   "source": [
    "LogisticPredictions[0]"
   ]
  },
  {
   "cell_type": "code",
   "execution_count": 387,
   "metadata": {
    "collapsed": false
   },
   "outputs": [
    {
     "name": "stdout",
     "output_type": "stream",
     "text": [
      "0.7957351290684624\n"
     ]
    }
   ],
   "source": [
    "y=0\n",
    "for x in range(0,len(Ypart)):\n",
    "    if Ypart[x]==LogisticPredictions[x]:\n",
    "        y=y+1\n",
    "print (y/len(Ypart))"
   ]
  },
  {
   "cell_type": "code",
   "execution_count": null,
   "metadata": {
    "collapsed": true
   },
   "outputs": [],
   "source": []
  }
 ],
 "metadata": {
  "kernelspec": {
   "display_name": "Python 3",
   "language": "python",
   "name": "python3"
  },
  "language_info": {
   "codemirror_mode": {
    "name": "ipython",
    "version": 3
   },
   "file_extension": ".py",
   "mimetype": "text/x-python",
   "name": "python",
   "nbconvert_exporter": "python",
   "pygments_lexer": "ipython3",
   "version": "3.5.1"
  }
 },
 "nbformat": 4,
 "nbformat_minor": 0
}
